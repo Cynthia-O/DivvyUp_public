{
 "cells": [
  {
   "cell_type": "markdown",
   "metadata": {},
   "source": [
    "## DivvyUp relies on pandas_datareader and datetime for web scraping and R's Hadleyverse for data compiling and cleaning. What follows below is the Python parts of DivvyUp, largely pandas and numpy for the heavy computational lifting, and matplotlib for simple plotting.\n",
    "\n",
    "## An interactive DivvyUp can be found at https://vast-hamlet-12388.herokuapp.com/. "
   ]
  },
  {
   "cell_type": "markdown",
   "metadata": {},
   "source": [
    "### First import the necessary packages:"
   ]
  },
  {
   "cell_type": "code",
   "execution_count": 1,
   "metadata": {},
   "outputs": [],
   "source": [
    "#first import the necessary packages\n",
    "import pandas as pd\n",
    "import numpy as np\n",
    "import os\n",
    "import matplotlib.pyplot as plt"
   ]
  },
  {
   "cell_type": "markdown",
   "metadata": {},
   "source": [
    "## R's data.table package has been used to bind and append a ticker column to the scraped 2018 historical daily opening bell data of 5,943 domestic and international stocks, which includes most of the stocks traded on the Nasdaq, NYS, and American Exchanges. The data is then imported below:"
   ]
  },
  {
   "cell_type": "code",
   "execution_count": 2,
   "metadata": {},
   "outputs": [],
   "source": [
    "Full2018Stocks = pd.read_csv('/home/cynthiaorourke/Documents/Data/Full2018Stocks.csv', header = 0)\n",
    "#a date as a datetime variable column is created from the date as object column:\n",
    "Full2018Stocks['date_as_date'] =  pd.to_datetime(Full2018Stocks['Date'], format='%Y-%m-%d')"
   ]
  },
  {
   "cell_type": "markdown",
   "metadata": {},
   "source": [
    "## Daily rate of change (ROC) is how DivvyUp evaluates the similarity or diversity of two stocks. Stocks that change in the same direction and at the same percent magnitude over time are stocks that are calculated to have very low diversity relative to one another. Conversely, stocks whose value changes are not corrleated are calculated as having high diversity relative to one another. "
   ]
  },
  {
   "cell_type": "code",
   "execution_count": 3,
   "metadata": {},
   "outputs": [],
   "source": [
    "#ROC values as (Day 2 value - Day 1 Value)/(Day 1 Value) are created here:\n",
    "Full2018Stocks['daily_ROC']=(Full2018Stocks['Open']-Full2018Stocks['Open'].shift(1))/Full2018Stocks['Open'].shift(1)\n",
    "# print(Full2018Stocks.iloc[0:3,:]) #code to check results - unhash to use"
   ]
  },
  {
   "cell_type": "code",
   "execution_count": 4,
   "metadata": {},
   "outputs": [],
   "source": [
    "#Here I clean the borders up so that the first entry for each stock has a ROC value of 0\n",
    "#Otherwise it would reflect price change based on the last entry of the stock before it\n",
    "#0 is the column with Name values, which can be used to find these problematic borders\n",
    "for i in Full2018Stocks.index:\n",
    "    if Full2018Stocks.iloc[i,0]!=Full2018Stocks.iloc[i-1,0]:\n",
    "        Full2018Stocks.loc[Full2018Stocks.index==i,'daily_ROC'] = 0"
   ]
  },
  {
   "cell_type": "code",
   "execution_count": 5,
   "metadata": {},
   "outputs": [],
   "source": [
    "#Bounded ROC is an indexed form of ROC, equal to (Day2-Day1/(Day2+Day1))/2 \n",
    "Full2018Stocks['bounded_ROC']=0.5*(Full2018Stocks['Open']-Full2018Stocks['Open'].shift(1))/(Full2018Stocks['Open']+Full2018Stocks['Open'].shift(1))\n",
    "# print(Full2018Stocks.iloc[0:2,:]) #code to check results - unhash to use"
   ]
  },
  {
   "cell_type": "code",
   "execution_count": 6,
   "metadata": {},
   "outputs": [],
   "source": [
    "#As above, cleaning up a border artifact:\n",
    "for i in Full2018Stocks.index:\n",
    "    if Full2018Stocks.iloc[i,0]!=Full2018Stocks.iloc[i-1,0]:\n",
    "        Full2018Stocks.loc[Full2018Stocks.index==i,'bounded_ROC'] = 0"
   ]
  },
  {
   "cell_type": "code",
   "execution_count": 7,
   "metadata": {},
   "outputs": [],
   "source": [
    "#Ticker CAMP was scraped as camp - fixing here\n",
    "Full2018Stocks['Name']= Full2018Stocks['Name'].replace('camp', 'CAMP')"
   ]
  },
  {
   "cell_type": "code",
   "execution_count": 8,
   "metadata": {},
   "outputs": [
    {
     "name": "stdout",
     "output_type": "stream",
     "text": [
      "0\n",
      "0\n"
     ]
    }
   ],
   "source": [
    "#Checking the date for missing values.\n",
    "#There shouldn't be any, but if there are, it is probably easiest to remove the problem stocks. \n",
    "#If there are many missing values, revisit the web scraping/data cleaning steps.\n",
    "print(Full2018Stocks['daily_ROC'].isna().sum()) \n",
    "print(Full2018Stocks['bounded_ROC'].isna().sum()) "
   ]
  },
  {
   "cell_type": "markdown",
   "metadata": {},
   "source": [
    "## Now splitting it quarterly chunks, both for validation (how well do Divvy's recommendations perform in the following quarter?) and also to limit the depth of the time series, allowing for more precise quarterly rebalancing events. \n",
    "\n",
    "### Jan 3 - March 30 Q1 (no daily ROC on day 1 of Q1)\n",
    "### Apr 2 - Jun 29 Q2\n",
    "### Jul 2 - Sep 28 Q3\n",
    "### Oct 1 - Dec 31 Q4"
   ]
  },
  {
   "cell_type": "code",
   "execution_count": 9,
   "metadata": {},
   "outputs": [],
   "source": [
    "Q1=Full2018Stocks[(Full2018Stocks.date_as_date >= '2018-01-03')&(Full2018Stocks.date_as_date <= '2018-03-02')]\n",
    "Q2=Full2018Stocks[(Full2018Stocks.date_as_date >= '2018-04-02')&(Full2018Stocks.date_as_date <= '2018-06-29')]\n",
    "Q3=Full2018Stocks[(Full2018Stocks.date_as_date >= '2018-07-02')&(Full2018Stocks.date_as_date <= '2018-09-28')]\n",
    "Q4=Full2018Stocks[(Full2018Stocks.date_as_date >= '2018-10-01')&(Full2018Stocks.date_as_date <= '2018-12-31')]"
   ]
  },
  {
   "cell_type": "code",
   "execution_count": 11,
   "metadata": {},
   "outputs": [],
   "source": [
    "#Recommend creating some .csvs to save locally at this point\n",
    "#That would keep you from having to repeat the above work every time you want to run analyes\n",
    "#An alternative would be to use a pickling approach, e.g., dill\n",
    "Q1.to_csv('/home/cynthiaorourke/Documents/Jupyter Notebooks/Cryptocurrencies/Final_DivvyUp/Q1.csv', sep=',', encoding='utf-8', index=False)\n",
    "Q2.to_csv('/home/cynthiaorourke/Documents/Jupyter Notebooks/Cryptocurrencies/Final_DivvyUp/Q2.csv', sep=',', encoding='utf-8', index=False)\n",
    "Q3.to_csv('/home/cynthiaorourke/Documents/Jupyter Notebooks/Cryptocurrencies/Final_DivvyUp/Q3.csv', sep=',', encoding='utf-8', index=False)\n",
    "Q4.to_csv('/home/cynthiaorourke/Documents/Jupyter Notebooks/Cryptocurrencies/Final_DivvyUp/Q4.csv', sep=',', encoding='utf-8', index=False)"
   ]
  },
  {
   "cell_type": "code",
   "execution_count": 12,
   "metadata": {},
   "outputs": [
    {
     "data": {
      "text/plain": [
       "High               44.509999\n",
       "Low                43.384999\n",
       "Open               43.910001\n",
       "Close              43.990002\n",
       "Volume         671300.000000\n",
       "daily_ROC           0.000895\n",
       "bounded_ROC         0.000224\n",
       "Name: 0.75, dtype: float64"
      ]
     },
     "execution_count": 12,
     "metadata": {},
     "output_type": "execute_result"
    }
   ],
   "source": [
    "#Finding fourth quartile volume values, which are important for making sure that Divvy is only bringing...\n",
    "#... back stocks for which it has sufficient market data to reliably judge\n",
    "#First the median values for each ticker are found, and then those medians are sorted into quantiles\n",
    "#Only the top quantile is used for Divvy's fetch action, reducing the pool to ~1,486 stocks (still pretty good)\n",
    "Q1play=Q1.copy()\n",
    "Quarts = Q1play.groupby('Name').median().quantile(0.75)\n",
    "Quarts"
   ]
  },
  {
   "cell_type": "code",
   "execution_count": 13,
   "metadata": {},
   "outputs": [
    {
     "data": {
      "text/plain": [
       "High               43.327501\n",
       "Low                42.373751\n",
       "Open               42.780000\n",
       "Close              42.847501\n",
       "Volume         596050.000000\n",
       "daily_ROC           0.001752\n",
       "bounded_ROC         0.000437\n",
       "Name: 0.75, dtype: float64"
      ]
     },
     "execution_count": 13,
     "metadata": {},
     "output_type": "execute_result"
    }
   ],
   "source": [
    "Q2play=Q2.copy()\n",
    "Quarts = Q2play.groupby('Name').median().quantile(0.75)\n",
    "Quarts"
   ]
  },
  {
   "cell_type": "code",
   "execution_count": 14,
   "metadata": {},
   "outputs": [
    {
     "data": {
      "text/plain": [
       "High               44.235000\n",
       "Low                43.242501\n",
       "Open               43.727501\n",
       "Close              43.717499\n",
       "Volume         535425.000000\n",
       "daily_ROC           0.001023\n",
       "bounded_ROC         0.000256\n",
       "Name: 0.75, dtype: float64"
      ]
     },
     "execution_count": 14,
     "metadata": {},
     "output_type": "execute_result"
    }
   ],
   "source": [
    "Q3play=Q3.copy()\n",
    "Quarts = Q3play.groupby('Name').median().quantile(0.75)\n",
    "Quarts"
   ]
  },
  {
   "cell_type": "code",
   "execution_count": 15,
   "metadata": {},
   "outputs": [
    {
     "data": {
      "text/plain": [
       "High               38.990002\n",
       "Low                37.648499\n",
       "Open               38.307499\n",
       "Close              38.205001\n",
       "Volume         657725.000000\n",
       "daily_ROC           0.000000\n",
       "bounded_ROC         0.000000\n",
       "Name: 0.75, dtype: float64"
      ]
     },
     "execution_count": 15,
     "metadata": {},
     "output_type": "execute_result"
    }
   ],
   "source": [
    "Q4play=Q4.copy()\n",
    "Quarts = Q4play.groupby('Name').median().quantile(0.75)\n",
    "Quarts"
   ]
  },
  {
   "cell_type": "markdown",
   "metadata": {},
   "source": [
    "Decided to adjust price floors for returned swap stocks based on the previous quarter's Nasdaq (larger and more diverse than NYSE) composite index, based on these values and dates (Marketwatch historical data):\n",
    "* Jan 2 2018 6,937.65\n",
    "* Apr 2 2018 7,016.17 Q1 end price floor set to >= 1.01(Q1 start price)\n",
    "* Jul 2 2018 7,451.90 Q2 end price floor set to >= 1.06(Q2 start price)\n",
    "* Oct 1 2018 8,091.50 Q3 end price floor set to >= 1.09(Q3 start price)\n",
    "* Dec 3 2018 6,649.52 Q4 end price floor set to >= 0.82(Q4 start price)"
   ]
  },
  {
   "cell_type": "markdown",
   "metadata": {},
   "source": [
    "## To save time, you can either import your saved quarterly .csv files or my uploaded quarterly .csv files here, but don't forget to import those packages at the top of this notebook:"
   ]
  },
  {
   "cell_type": "code",
   "execution_count": 16,
   "metadata": {},
   "outputs": [],
   "source": [
    "Q1 = pd.read_csv('/home/cynthiaorourke/Documents/Jupyter Notebooks/Cryptocurrencies/Final_DivvyUp/Q1.csv', header = 0)\n",
    "Q2 = pd.read_csv('/home/cynthiaorourke/Documents/Jupyter Notebooks/Cryptocurrencies/Final_DivvyUp/Q2.csv', header = 0)\n",
    "Q3 = pd.read_csv('/home/cynthiaorourke/Documents/Jupyter Notebooks/Cryptocurrencies/Final_DivvyUp/Q3.csv', header = 0)\n",
    "Q4 = pd.read_csv('/home/cynthiaorourke/Documents/Jupyter Notebooks/Cryptocurrencies/Final_DivvyUp/Q4.csv', header = 0)"
   ]
  },
  {
   "cell_type": "markdown",
   "metadata": {},
   "source": [
    "## You're now ready to run DivvyUp on any portfolio, starting with mine as of January 2019.\n",
    "\n",
    "## The code below will analyze the portfolio's similarity based on first quarter 2018 data, return suggested diversifying stocks based on that same data, and then tell you how those swap-in stocks performed relative to the stocks they would have replaced, based on second quarter 2018 data."
   ]
  },
  {
   "cell_type": "code",
   "execution_count": 17,
   "metadata": {},
   "outputs": [
    {
     "name": "stdout",
     "output_type": "stream",
     "text": [
      "Start date: 2018-01-03\n",
      "End date: 2018-03-02\n",
      "Average Div Score: 37.48\n",
      "Maximum Div Score: ('NWN', 'SCYX') 62.57\n",
      "Mimimum Div Score: ('DTE', 'POR') 14.25\n"
     ]
    }
   ],
   "source": [
    "a = 'COF'\n",
    "b = 'COST'\n",
    "c = 'MSFT'\n",
    "d = 'DTE'\n",
    "e = 'KO'\n",
    "f = 'POR'\n",
    "g = 'SCYX'\n",
    "h = 'SURF' \n",
    "i = 'NWN'\n",
    "j = 'ACC'\n",
    "k = 'LADR'\n",
    "l = 'GMLP'\n",
    "#Note that any stock that is not in Divvy's pile of 5,943, or isn't in the quarter of interest...\n",
    "#... will break the code.\n",
    "\n",
    "Stocks = [a,b,c,d,e,f,g,i,j,k,l] #create a stock list here\n",
    "\n",
    "#This limits the comparisons to stocks that Divvy only has full-quarter records of:\n",
    "Start = min(Q1.date_as_date)\n",
    "End = max(Q1.date_as_date)\n",
    "Full_run_stocks=[]\n",
    "for stock in Stocks:\n",
    "    if (min(Q1.date_as_date[(Q1['Name']==stock)]) == Start and \n",
    "    max(Q1.date_as_date[(Q1['Name']==stock)]) == End):\n",
    "        Full_run_stocks.append(stock)\n",
    "\n",
    "#Creates a dictionary of the daily ROC values of each of these stocks:\n",
    "changes={}\n",
    "for stock in Full_run_stocks:\n",
    "    changes[stock]=Q1.bounded_ROC[(Q1['Name']==stock)&(Q1['date_as_date']>=Start)&(Q1['date_as_date']<=End)]\n",
    "\n",
    "#Creates a dictionary of the pairwise distances between the ROC values of each of these stocks:\n",
    "distances={}    \n",
    "for stock in Full_run_stocks:\n",
    "    for stock2 in Full_run_stocks:\n",
    "        if stock>=stock2: continue #keeps that dictionary from containing each pair twice\n",
    "        diff_ = np.subtract(changes[stock],changes[stock2])\n",
    "        absol_ = np.absolute(diff_)\n",
    "        distances[(stock,stock2)] = np.round(10000*np.mean(absol_),decimals=2)\n",
    "#*10000 above because numbers in this range - percent-like numbers - are easier for humans to visually compare\n",
    "\n",
    "print('Start date:',Start) #Double-checking the start and end dates to make sure we have...\n",
    "print('End date:',End) #A full quarter time series comparison for all included stocks\n",
    "\n",
    "#Returns the average Diversity (Div) Score for this profile:\n",
    "print('Average Div Score:',np.round(sum(distances.values())/len(distances),decimals=2))\n",
    "    \n",
    "key_max = max(distances.keys(), key=(lambda k: distances[k]))\n",
    "key_min = min(distances.keys(), key=(lambda k: distances[k]))\n",
    "\n",
    "#Returns your most diverse stock pair:\n",
    "for keys, value in distances.items():    \n",
    "    if value == distances[key_max]:\n",
    "        print('Maximum Div Score:',keys, distances[key_max])\n",
    "#Returns your least diverse stock pair - one of these two should be targeted for replacement:\n",
    "for keys, value in distances.items():    \n",
    "    if value == distances[key_min]:\n",
    "        print('Mimimum Div Score:',keys, distances[key_min])"
   ]
  },
  {
   "cell_type": "code",
   "execution_count": 18,
   "metadata": {},
   "outputs": [
    {
     "name": "stdout",
     "output_type": "stream",
     "text": [
      "Percent focal1 gain= -6.982541602468203\n",
      "Percent focal2 gain= -10.755816730756736\n"
     ]
    }
   ],
   "source": [
    "#You can compare the past quarter's performance of your least diverse pair here\n",
    "#This is one potential criteria for picking the one to target for replacement\n",
    "focal1 = 'DTE'\n",
    "focal2 = 'POR'\n",
    "\n",
    "focal1_df = Q1[(Q1['Name']==focal1)]\n",
    "focal1_df.reset_index(inplace=True, drop=True)\n",
    "Start = min(focal1_df.date_as_date)\n",
    "End = max(focal1_df.date_as_date)\n",
    "focal1_start=focal1_df.loc[focal1_df.date_as_date==Start,'Open'].values[0]\n",
    "focal1_end=focal1_df.loc[focal1_df.date_as_date==End,'Open'].values[0]\n",
    "type(focal1_start)\n",
    "percent_focal1=100*(focal1_end-focal1_start)/(focal1_start)\n",
    "\n",
    "focal2_df = Q1[(Q1['Name']==focal2)]\n",
    "focal2_df.reset_index(inplace=True, drop=True)\n",
    "Start = min(focal2_df.date_as_date)\n",
    "End = max(focal2_df.date_as_date)\n",
    "focal2_start=focal2_df.loc[focal2_df.date_as_date==Start,'Open'].values[0]\n",
    "focal2_end=focal2_df.loc[focal2_df.date_as_date==End,'Open'].values[0]\n",
    "type(focal1_start)\n",
    "percent_focal2=100*(focal2_end-focal2_start)/(focal2_start)\n",
    "\n",
    "print('Percent focal1 gain=',percent_focal1)\n",
    "print('Percent focal2 gain=',percent_focal2)"
   ]
  },
  {
   "cell_type": "code",
   "execution_count": 19,
   "metadata": {},
   "outputs": [
    {
     "name": "stdout",
     "output_type": "stream",
     "text": [
      "Which of these two are you least attached to? POR\n",
      "Start date: 2018-01-16\n",
      "End date: 2018-03-02\n",
      "Average Div Score: 49.52\n",
      "Stock Pair Div Score\n",
      "(('FBP', 'POR'), 40.6) POR\n",
      "(('EGHT', 'POR'), 60.56) POR\n",
      "(('BIOS', 'POR'), 59.69) POR\n",
      "(('SBS', 'POR'), 48.31) POR\n",
      "(('CRM', 'POR'), 38.46) POR\n",
      "Maximum Div Score: ('EGHT', 'POR') 60.56\n"
     ]
    }
   ],
   "source": [
    "#Having selected my stock to replace, it becomes the \"Focal\" for comparisons below:\n",
    "Focal = 'POR'\n",
    "print('Which of these two are you least attached to?',Focal) #A reminder of the harsh choice you've made\n",
    "\n",
    "#Pull only 200 stocks at random from the set of ~6,000\n",
    "#Both for speed and for the element of adventure\n",
    "#This isn't an optimization problem - we're not looking to find The One most diverse stock from our Focal\n",
    "#We're looking to find diversity-building and novel (to the user) stocks\n",
    "random_comps=np.random.choice(Q1.Name[(Q1['Name']!=Focal)],replace=False,size=100)\n",
    "random_comps.tolist()\n",
    "comps_w_focal=np.append(random_comps,Focal)\n",
    "comps_w_focal.tolist()\n",
    "\n",
    "#I want to lose as few stocks as possible in this step, because I will lose quite a few below\n",
    "#So the comparison time frame is limited to the complete history of the least-complete stock in the draw:\n",
    "start_dates={}\n",
    "for stock in comps_w_focal:\n",
    "    start_dates[stock] = min(Q1.date_as_date[(Q1['Name']==stock)])\n",
    "Start = max(start_dates.values()) #the stock with the latest start value sets the date range\n",
    "\n",
    "end_dates={}\n",
    "for stock in comps_w_focal:\n",
    "    end_dates[stock] = max(Q1.date_as_date[(Q1['Name']==stock)])\n",
    "End = max(end_dates.values()) #the stock with the latest start value sets the date range\n",
    "\n",
    "#Here some shallow learnign is imported - I'm restricting the returned stocks to those with decent volumes...\n",
    "#... and end-quarter values that were at least equal to their start-quarter values (not adjusted for inflation)\n",
    "good_comps_w_focal=[]\n",
    "for stock in comps_w_focal:\n",
    "    end_vol = Q1.Volume[(Q1['Name']==stock)&(Q1['date_as_date']==End)]\n",
    "    start_vol = Q1.Volume[(Q1['Name']==stock)&(Q1['date_as_date']==Start)]\n",
    "    end_vol.reset_index(inplace=True, drop=True)\n",
    "    start_vol.reset_index(inplace=True, drop=True)\n",
    "    end_price = Q1.Open[(Q1['Name']==stock)&(Q1['date_as_date']==End)]\n",
    "    start_price = Q1.Open[(Q1['Name']==stock)&(Q1['date_as_date']==Start)]\n",
    "    end_price.reset_index(inplace=True, drop=True)\n",
    "    start_price.reset_index(inplace=True, drop=True)\n",
    "    if stock == Focal: continue\n",
    "    if (end_vol[0] >= 671300 and start_vol[0] >= 671300 and end_price[0] >= 1.01*start_price[0]):\n",
    "        good_comps_w_focal.append(stock)       \n",
    "#Even with 200 stocks drawn, sometimes none of them make it through this selection step...\n",
    "#... and an error is thrown\n",
    "#Just run the code again if that happens - Divvy will fetch a fresh random sample of 200\n",
    "\n",
    "good_comps_w_focal.append(Focal) #get the Focal back in there\n",
    "\n",
    "changes={}\n",
    "distances={}\n",
    "\n",
    "for stock in good_comps_w_focal:\n",
    "    changes[stock]=Q1.bounded_ROC[(Q1['Name']==stock)&(Q1['date_as_date']>=Start)&(Q1['date_as_date']<=End)]\n",
    "        \n",
    "for stock in good_comps_w_focal:\n",
    "    if stock==Focal: continue \n",
    "    diff_ = np.subtract(changes[stock],changes[Focal])\n",
    "    absol_ = np.absolute(diff_)\n",
    "    distances[(stock,Focal)] = np.round(10000*np.mean(absol_),decimals=2)\n",
    "\n",
    "print('Start date:',Start)\n",
    "print('End date:',End)\n",
    "print('Average Div Score:',np.round(sum(distances.values())/len(distances),decimals=2)) #*10 to make it impressive\n",
    "distances\n",
    "\n",
    "print('Stock Pair Div Score') \n",
    "for stock in distances.items():\n",
    "    print('{} {}'.format(stock,Focal))\n",
    "\n",
    "key_max = max(distances.keys(), key=(lambda k: distances[k]))\n",
    "key_min = min(distances.keys(), key=(lambda k: distances[k]))\n",
    "\n",
    "#This code tells you the most diverse suggested replacement:\n",
    "for keys, value in distances.items():    \n",
    "    if value == distances[key_max]:\n",
    "        print('Maximum Div Score:',keys, distances[key_max])"
   ]
  },
  {
   "cell_type": "markdown",
   "metadata": {},
   "source": [
    "### The outcomes step below illustrates why DivvyUp is intended to be a stock recommender and NOT a stock predictor - you are supposed to be the human in this loop, going out there and looking into these suggested stocks to judge them for yourself.\n",
    "\n",
    "### For this test case, Divvy's suggested replacements performed on mean over 19% better than the focal to be replaced, DTE, but on median slightly over 7% worse. Use your own judgement when choosing stocks! \n",
    "\n",
    "## Divvy is a travel guide, not a robo-investor."
   ]
  },
  {
   "cell_type": "code",
   "execution_count": 20,
   "metadata": {},
   "outputs": [
    {
     "name": "stdout",
     "output_type": "stream",
     "text": [
      "135.71\n",
      "-24.24\n",
      "-7.69\n",
      "24.58\n",
      "-29.07\n",
      "% focal gain: -0.62\n"
     ]
    }
   ],
   "source": [
    "#This is the fun part!\n",
    "#Now take some of Divvy's suggestions - maybe the ones with the highest Div Scores relative to the focal\n",
    "#And see how they did in the second quarter:\n",
    "\n",
    "focal = 'DTE'\n",
    "swaps = ['FOSL','APPS','TGTX','MAT','CIG'] \n",
    "#FOSL (+135%) and MAT (+24.58%) did way better than DTE (-0.62%)\n",
    "#Conversely, DTE (-0.62%) did way better than APPS (-24.24%), TGTX (-7.69%), or CIG (-29.07%)\n",
    "\n",
    "focal_df = Q2[(Q2['Name']==focal)]\n",
    "focal_df.reset_index(inplace=True, drop=True)\n",
    "Start = min(focal_df.date_as_date)\n",
    "End = max(focal_df.date_as_date)\n",
    "focal_start=focal_df.loc[focal_df.date_as_date==Start,'Open'].values[0]\n",
    "focal_end=focal_df.loc[focal_df.date_as_date==End,'Open'].values[0]\n",
    "type(focal_start)\n",
    "percent_focal=100*(focal_end-focal_start)/(focal_start)\n",
    "\n",
    "swap_gains=[]\n",
    "for swap in swaps:\n",
    "    swap_df = Q2[(Q2['Name']==swap)]\n",
    "    swap_df.reset_index(inplace=True, drop=True)\n",
    "    Start = min(swap_df.date_as_date)\n",
    "    End = max(swap_df.date_as_date)\n",
    "    swap_start=swap_df.loc[swap_df.date_as_date==Start,'Open'].values[0]\n",
    "    swap_end=swap_df.loc[swap_df.date_as_date==End,'Open'].values[0]\n",
    "    type(focal_start)\n",
    "    percent_swap=100*(swap_end-swap_start)/(swap_start)\n",
    "    print(np.round(percent_swap,decimals=2))\n",
    "\n",
    "print('% focal gain:',np.round(percent_focal,decimals=2))"
   ]
  },
  {
   "cell_type": "code",
   "execution_count": 21,
   "metadata": {},
   "outputs": [
    {
     "data": {
      "image/png": "[encoded data removed]",
      "text/plain": [
       "<Figure size 432x288 with 1 Axes>"
      ]
     },
     "metadata": {
      "needs_background": "light"
     },
     "output_type": "display_data"
    }
   ],
   "source": [
    "#One last thing - below you can plot the within-quarter outcome of any two stocks\n",
    "#This is handy for visualizing next-quarter outcomes, or checking out exactly what a low diversity score...\n",
    "#... looks like (I'm going to use it for that right now)\n",
    "import matplotlib.pyplot as plt\n",
    "\n",
    "width = 6\n",
    "length = 4\n",
    "plt.rcParams['figure.figsize'] = (width, length)\n",
    "plt.rcParams.update({'font.size': 8})\n",
    "\n",
    "a = 'DTE' #These two had a first-quarter Div Score of 14.25\n",
    "b = 'POR' #So let's visualize that similarity below\n",
    "\n",
    "y1=1*Q1['Open'][(Q1['Name'] == a)] #Replace 1 with a larger number if this stock is squished at the bottom\n",
    "y2=1*Q1['Open'][(Q1['Name'] == b)] #Replace 1 with a larger number if this stock is squished at the bottom\n",
    "x=Q1['date_as_date'][(Q1['Name'] == a)] #to set a shared axis\n",
    "\n",
    "plt.plot(x, y1,c='orange',linewidth=5,alpha=0.5,label=a)\n",
    "plt.plot(x, y2,c='black',linewidth=5,alpha=0.5,label=b)\n",
    "\n",
    "plt.legend(loc=9, prop={'size': 15},bbox_to_anchor=[1.05, 0.85])\n",
    "plt.tick_params(\n",
    "    axis='x',          # changes apply to the x-axis\n",
    "    which='both',      # both major and minor ticks are affected\n",
    "    bottom=False,      # ticks along the bottom edge are off\n",
    "    top=False,         # ticks along the top edge are off\n",
    "    labelbottom=False)\n",
    "plt.ylabel('Value at Open ($)',fontsize=15)\n",
    "plt.xlabel('Q1 2018',fontsize=15)\n",
    "plt.show()"
   ]
  },
  {
   "cell_type": "markdown",
   "metadata": {},
   "source": [
    "## The code below will analyze the portfolio's similarity based on second quarter 2018 data, return suggested diversifying stocks based on that same data, and then tell you how those swap-in stocks performed relative to the stocks they would have replaced, based on third quarter 2018 data."
   ]
  },
  {
   "cell_type": "code",
   "execution_count": 22,
   "metadata": {},
   "outputs": [
    {
     "name": "stdout",
     "output_type": "stream",
     "text": [
      "Start date: 2018-04-02\n",
      "End date: 2018-06-29\n",
      "Average Div Score: 40.84\n",
      "Maximum Div Score: ('ACC', 'SCYX') 88.6\n",
      "Mimimum Div Score: ('DTE', 'POR') 13.67\n"
     ]
    }
   ],
   "source": [
    "a = 'COF'\n",
    "b = 'COST'\n",
    "c = 'MSFT'\n",
    "d = 'DTE'\n",
    "e = 'KO'\n",
    "f = 'POR'\n",
    "g = 'SCYX'\n",
    "h = 'SURF' \n",
    "i = 'NWN'\n",
    "j = 'ACC'\n",
    "k = 'LADR'\n",
    "l = 'GMLP'\n",
    "#Note that any stock that is not in Divvy's pile of 5,943, or isn't in the quarter of interest...\n",
    "#... will break the code.\n",
    "\n",
    "Stocks = [a,b,c,d,e,f,g,i,j,k,l] #create a stock list here\n",
    "\n",
    "#This limits the comparisons to stocks that Divvy only has full-quarter records of:\n",
    "Start = min(Q2.date_as_date)\n",
    "End = max(Q2.date_as_date)\n",
    "Full_run_stocks=[]\n",
    "for stock in Stocks:\n",
    "    if (min(Q2.date_as_date[(Q2['Name']==stock)]) == Start and \n",
    "    max(Q2.date_as_date[(Q2['Name']==stock)]) == End):\n",
    "        Full_run_stocks.append(stock)\n",
    "\n",
    "#Creates a dictionary of the daily ROC values of each of these stocks:\n",
    "changes={}\n",
    "for stock in Full_run_stocks:\n",
    "    changes[stock]=Q2.bounded_ROC[(Q2['Name']==stock)&(Q2['date_as_date']>=Start)&(Q2['date_as_date']<=End)]\n",
    "\n",
    "#Creates a dictionary of the pairwise distances between the ROC values of each of these stocks:\n",
    "distances={}    \n",
    "for stock in Full_run_stocks:\n",
    "    for stock2 in Full_run_stocks:\n",
    "        if stock>=stock2: continue #keeps that dictionary from containing each pair twice\n",
    "        diff_ = np.subtract(changes[stock],changes[stock2])\n",
    "        absol_ = np.absolute(diff_)\n",
    "        distances[(stock,stock2)] = np.round(10000*np.mean(absol_),decimals=2)\n",
    "#*10000 above because numbers in this range - percent-like numbers - are easier for humans to visually compare\n",
    "\n",
    "print('Start date:',Start) #Double-checking the start and end dates to make sure we have...\n",
    "print('End date:',End) #A full quarter time series comparison for all included stocks\n",
    "\n",
    "#Returns the average Diversity (Div) Score for this profile:\n",
    "print('Average Div Score:',np.round(sum(distances.values())/len(distances),decimals=2))\n",
    "    \n",
    "key_max = max(distances.keys(), key=(lambda k: distances[k]))\n",
    "key_min = min(distances.keys(), key=(lambda k: distances[k]))\n",
    "\n",
    "#Returns your most diverse stock pair:\n",
    "for keys, value in distances.items():    \n",
    "    if value == distances[key_max]:\n",
    "        print('Maximum Div Score:',keys, distances[key_max])\n",
    "#Returns your least diverse stock pair - one of these two should be targeted for replacement:\n",
    "for keys, value in distances.items():    \n",
    "    if value == distances[key_min]:\n",
    "        print('Mimimum Div Score:',keys, distances[key_min])"
   ]
  },
  {
   "cell_type": "code",
   "execution_count": 23,
   "metadata": {},
   "outputs": [
    {
     "name": "stdout",
     "output_type": "stream",
     "text": [
      "Percent focal1 gain= -0.6209414634925747\n",
      "Percent focal2 gain= 5.294256781255908\n"
     ]
    }
   ],
   "source": [
    "#You can compare the past quarter's performance of your least diverse pair here\n",
    "#This is one potential criteria for picking the one to target for replacement\n",
    "focal1 = 'DTE'\n",
    "focal2 = 'POR'\n",
    "\n",
    "focal1_df = Q2[(Q2['Name']==focal1)]\n",
    "focal1_df.reset_index(inplace=True, drop=True)\n",
    "Start = min(focal1_df.date_as_date)\n",
    "End = max(focal1_df.date_as_date)\n",
    "focal1_start=focal1_df.loc[focal1_df.date_as_date==Start,'Open'].values[0]\n",
    "focal1_end=focal1_df.loc[focal1_df.date_as_date==End,'Open'].values[0]\n",
    "type(focal1_start)\n",
    "percent_focal1=100*(focal1_end-focal1_start)/(focal1_start)\n",
    "\n",
    "focal2_df = Q2[(Q2['Name']==focal2)]\n",
    "focal2_df.reset_index(inplace=True, drop=True)\n",
    "Start = min(focal2_df.date_as_date)\n",
    "End = max(focal2_df.date_as_date)\n",
    "focal2_start=focal2_df.loc[focal2_df.date_as_date==Start,'Open'].values[0]\n",
    "focal2_end=focal2_df.loc[focal2_df.date_as_date==End,'Open'].values[0]\n",
    "type(focal1_start)\n",
    "percent_focal2=100*(focal2_end-focal2_start)/(focal2_start)\n",
    "\n",
    "print('Percent focal1 gain=',percent_focal1)\n",
    "print('Percent focal2 gain=',percent_focal2)"
   ]
  },
  {
   "cell_type": "code",
   "execution_count": 28,
   "metadata": {},
   "outputs": [
    {
     "name": "stdout",
     "output_type": "stream",
     "text": [
      "Which of these two are you least attached to? DTE\n",
      "Start date: 2018-04-02\n",
      "End date: 2018-06-29\n",
      "Average Div Score: 40.8\n",
      "Stock Pair Div Score\n",
      "(('UE', 'DTE'), 33.66) DTE\n",
      "(('HDS', 'DTE'), 27.79) DTE\n",
      "(('CRI', 'DTE'), 39.76) DTE\n",
      "(('TCF', 'DTE'), 36.63) DTE\n",
      "(('HRL', 'DTE'), 27.86) DTE\n",
      "(('KBR', 'DTE'), 43.58) DTE\n",
      "(('NVDA', 'DTE'), 51.4) DTE\n",
      "(('LNG', 'DTE'), 42.91) DTE\n",
      "(('ESV', 'DTE'), 72.02) DTE\n",
      "(('VTR', 'DTE'), 26.78) DTE\n",
      "(('AEE', 'DTE'), 13.64) DTE\n",
      "(('HRTX', 'DTE'), 73.55) DTE\n",
      "Maximum Div Score: ('HRTX', 'DTE') 73.55\n"
     ]
    }
   ],
   "source": [
    "#Having selected my stock to replace, it becomes the \"Focal\" for comparisons below:\n",
    "Focal = 'DTE'\n",
    "print('Which of these two are you least attached to?',Focal) #A reminder of the harsh choice you've made\n",
    "\n",
    "#Pull only 200 stocks at random from the set of ~6,000\n",
    "#Both for speed and for the element of adventure\n",
    "#This isn't an optimization problem - we're not looking to find The One most diverse stock from our Focal\n",
    "#We're looking to find diversity-building and novel (to the user) stocks\n",
    "random_comps=np.random.choice(Q2.Name[(Q2['Name']!=Focal)],replace=False,size=100)\n",
    "random_comps.tolist()\n",
    "comps_w_focal=np.append(random_comps,Focal)\n",
    "comps_w_focal.tolist()\n",
    "\n",
    "#I want to lose as few stocks as possible in this step, because I will lose quite a few below\n",
    "#So the comparison time frame is limited to the complete history of the least-complete stock in the draw:\n",
    "start_dates={}\n",
    "for stock in comps_w_focal:\n",
    "    start_dates[stock] = min(Q2.date_as_date[(Q2['Name']==stock)])\n",
    "Start = max(start_dates.values()) #the stock with the latest start value sets the date range\n",
    "\n",
    "end_dates={}\n",
    "for stock in comps_w_focal:\n",
    "    end_dates[stock] = max(Q2.date_as_date[(Q2['Name']==stock)])\n",
    "End = max(end_dates.values()) #the stock with the latest start value sets the date range\n",
    "\n",
    "#Here some shallow learnign is imported - I'm restricting the returned stocks to those with decent volumes...\n",
    "#... and end-quarter values that were at least equal to their start-quarter values (not adjusted for inflation)\n",
    "good_comps_w_focal=[]\n",
    "for stock in comps_w_focal:\n",
    "    end_vol = Q2.Volume[(Q2['Name']==stock)&(Q2['date_as_date']==End)]\n",
    "    start_vol = Q2.Volume[(Q2['Name']==stock)&(Q2['date_as_date']==Start)]\n",
    "    end_vol.reset_index(inplace=True, drop=True)\n",
    "    start_vol.reset_index(inplace=True, drop=True)\n",
    "    end_price = Q2.Open[(Q2['Name']==stock)&(Q2['date_as_date']==End)]\n",
    "    start_price = Q2.Open[(Q2['Name']==stock)&(Q2['date_as_date']==Start)]\n",
    "    end_price.reset_index(inplace=True, drop=True)\n",
    "    start_price.reset_index(inplace=True, drop=True)\n",
    "    if stock == Focal: continue\n",
    "    if (end_vol[0] >= 596050 and start_vol[0] >= 596050 and end_price[0] >= 1.06*start_price[0]):\n",
    "        good_comps_w_focal.append(stock)       \n",
    "#Even with 200 stocks drawn, sometimes none of them make it through this selection step...\n",
    "#... and an error is thrown\n",
    "#Just run the code again if that happens - Divvy will fetch a fresh random sample of 200\n",
    "\n",
    "good_comps_w_focal.append(Focal) #get the Focal back in there\n",
    "\n",
    "changes={}\n",
    "distances={}\n",
    "\n",
    "for stock in good_comps_w_focal:\n",
    "    changes[stock]=Q2.bounded_ROC[(Q2['Name']==stock)&(Q2['date_as_date']>=Start)&(Q2['date_as_date']<=End)]\n",
    "        \n",
    "for stock in good_comps_w_focal:\n",
    "    if stock==Focal: continue \n",
    "    diff_ = np.subtract(changes[stock],changes[Focal])\n",
    "    absol_ = np.absolute(diff_)\n",
    "    distances[(stock,Focal)] = np.round(10000*np.mean(absol_),decimals=2)\n",
    "\n",
    "print('Start date:',Start)\n",
    "print('End date:',End)\n",
    "print('Average Div Score:',np.round(sum(distances.values())/len(distances),decimals=2)) #*10 to make it impressive\n",
    "distances\n",
    "\n",
    "print('Stock Pair Div Score') \n",
    "for stock in distances.items():\n",
    "    print('{} {}'.format(stock,Focal))\n",
    "\n",
    "key_max = max(distances.keys(), key=(lambda k: distances[k]))\n",
    "key_min = min(distances.keys(), key=(lambda k: distances[k]))\n",
    "\n",
    "#This code tells you the most diverse suggested replacement:\n",
    "for keys, value in distances.items():    \n",
    "    if value == distances[key_max]:\n",
    "        print('Maximum Div Score:',keys, distances[key_max])"
   ]
  },
  {
   "cell_type": "markdown",
   "metadata": {},
   "source": [
    "### The outcomes step below illustrates why DivvyUp is intended to be a stock recommender and NOT a stock predictor - you are supposed to be the human in this loop, going out there and looking into these suggested stocks to judge them for yourself.\n",
    "\n",
    "### For this test case, Divvy's suggested replacements performed on mean nearly 5% worse than the focal to be replaced, DTE, and on median about 8.5% worse. Use your own judgement when choosing stocks! \n",
    "\n",
    "## Divvy is a travel guide, not a robo-investor."
   ]
  },
  {
   "cell_type": "code",
   "execution_count": 29,
   "metadata": {},
   "outputs": [
    {
     "name": "stdout",
     "output_type": "stream",
     "text": [
      "-17.09\n",
      "27.68\n",
      "-8.45\n",
      "11.76\n",
      "-19.12\n",
      "% focal gain: 3.82\n"
     ]
    }
   ],
   "source": [
    "#This is the fun part!\n",
    "#Now take some of Divvy's suggestions - maybe the ones with the highest Div Scores relative to the focal\n",
    "#And see how they did in the second quarter:\n",
    "\n",
    "focal = 'DTE'\n",
    "swaps = ['TNK','TRXC','UA','MEET','HRTX'] \n",
    "#FOSL (+135%) and MAT (+24.58%) did way better than DTE (-0.62%)\n",
    "#Conversely, DTE (-0.62%) did way better than APPS (-24.24%), TGTX (-7.69%), or CIG (-29.07%)\n",
    "\n",
    "focal_df = Q3[(Q3['Name']==focal)]\n",
    "focal_df.reset_index(inplace=True, drop=True)\n",
    "Start = min(focal_df.date_as_date)\n",
    "End = max(focal_df.date_as_date)\n",
    "focal_start=focal_df.loc[focal_df.date_as_date==Start,'Open'].values[0]\n",
    "focal_end=focal_df.loc[focal_df.date_as_date==End,'Open'].values[0]\n",
    "type(focal_start)\n",
    "percent_focal=100*(focal_end-focal_start)/(focal_start)\n",
    "\n",
    "swap_gains=[]\n",
    "for swap in swaps:\n",
    "    swap_df = Q3[(Q3['Name']==swap)]\n",
    "    swap_df.reset_index(inplace=True, drop=True)\n",
    "    Start = min(swap_df.date_as_date)\n",
    "    End = max(swap_df.date_as_date)\n",
    "    swap_start=swap_df.loc[swap_df.date_as_date==Start,'Open'].values[0]\n",
    "    swap_end=swap_df.loc[swap_df.date_as_date==End,'Open'].values[0]\n",
    "    type(focal_start)\n",
    "    percent_swap=100*(swap_end-swap_start)/(swap_start)\n",
    "    print(np.round(percent_swap,decimals=2))\n",
    "\n",
    "print('% focal gain:',np.round(percent_focal,decimals=2))"
   ]
  },
  {
   "cell_type": "code",
   "execution_count": 32,
   "metadata": {},
   "outputs": [
    {
     "data": {
      "image/png": "[encoded data removed]",
      "text/plain": [
       "<Figure size 432x288 with 1 Axes>"
      ]
     },
     "metadata": {
      "needs_background": "light"
     },
     "output_type": "display_data"
    }
   ],
   "source": [
    "#Once again, using this script to see what that low-diversity score reflected, not how the stocks panned out...\n",
    "#... in the next quarter:\n",
    "import matplotlib.pyplot as plt\n",
    "\n",
    "width = 6\n",
    "length = 4\n",
    "plt.rcParams['figure.figsize'] = (width, length)\n",
    "plt.rcParams.update({'font.size': 8})\n",
    "\n",
    "a = 'DTE' #These two had a first-quarter Div Score of 14.25\n",
    "b = 'TNK' #So let's visualize that similarity below\n",
    "\n",
    "y1=1*Q2['Open'][(Q2['Name'] == a)] #Replace 1 with a larger number if this stock is squished at the bottom\n",
    "y2=50*Q2['Open'][(Q2['Name'] == b)] #Replace 1 with a larger number if this stock is squished at the bottom\n",
    "x=Q2['date_as_date'][(Q2['Name'] == a)] #to set a shared axis\n",
    "\n",
    "plt.plot(x, y1,c='orange',linewidth=5,alpha=0.5,label=a)\n",
    "plt.plot(x, y2,c='black',linewidth=5,alpha=0.5,label=b)\n",
    "\n",
    "plt.legend(loc=9, prop={'size': 15},bbox_to_anchor=[1.05, 0.85])\n",
    "plt.tick_params(\n",
    "    axis='x',          # changes apply to the x-axis\n",
    "    which='both',      # both major and minor ticks are affected\n",
    "    bottom=False,      # ticks along the bottom edge are off\n",
    "    top=False,         # ticks along the top edge are off\n",
    "    labelbottom=False)\n",
    "plt.ylabel('Value at Open ($)',fontsize=15)\n",
    "plt.xlabel('Q2 2018',fontsize=15)\n",
    "plt.show()"
   ]
  },
  {
   "cell_type": "markdown",
   "metadata": {},
   "source": [
    "## The code below will analyze the portfolio's similarity based on third quarter 2018 data, return suggested diversifying stocks based on that same data, and then tell you how those swap-in stocks performed relative to the stocks they would have replaced, based on fourth quarter 2018 data."
   ]
  },
  {
   "cell_type": "code",
   "execution_count": 33,
   "metadata": {},
   "outputs": [
    {
     "name": "stdout",
     "output_type": "stream",
     "text": [
      "Start date: 2018-07-02\n",
      "End date: 2018-09-28\n",
      "Average Div Score: 35.5\n",
      "Maximum Div Score: ('GMLP', 'SCYX') 79.86\n",
      "Mimimum Div Score: ('DTE', 'POR') 12.52\n"
     ]
    }
   ],
   "source": [
    "a = 'COF'\n",
    "b = 'COST'\n",
    "c = 'MSFT'\n",
    "d = 'DTE'\n",
    "e = 'KO'\n",
    "f = 'POR'\n",
    "g = 'SCYX'\n",
    "h = 'SURF' \n",
    "i = 'NWN'\n",
    "j = 'ACC'\n",
    "k = 'LADR'\n",
    "l = 'GMLP'\n",
    "#Note that any stock that is not in Divvy's pile of 5,943, or isn't in the quarter of interest...\n",
    "#... will break the code.\n",
    "\n",
    "Stocks = [a,b,c,d,e,f,g,i,j,k,l] #create a stock list here\n",
    "\n",
    "#This limits the comparisons to stocks that Divvy only has full-quarter records of:\n",
    "Start = min(Q3.date_as_date)\n",
    "End = max(Q3.date_as_date)\n",
    "Full_run_stocks=[]\n",
    "for stock in Stocks:\n",
    "    if (min(Q3.date_as_date[(Q3['Name']==stock)]) == Start and \n",
    "    max(Q3.date_as_date[(Q3['Name']==stock)]) == End):\n",
    "        Full_run_stocks.append(stock)\n",
    "\n",
    "#Creates a dictionary of the daily ROC values of each of these stocks:\n",
    "changes={}\n",
    "for stock in Full_run_stocks:\n",
    "    changes[stock]=Q3.bounded_ROC[(Q3['Name']==stock)&(Q3['date_as_date']>=Start)&(Q3['date_as_date']<=End)]\n",
    "\n",
    "#Creates a dictionary of the pairwise distances between the ROC values of each of these stocks:\n",
    "distances={}    \n",
    "for stock in Full_run_stocks:\n",
    "    for stock2 in Full_run_stocks:\n",
    "        if stock>=stock2: continue #keeps that dictionary from containing each pair twice\n",
    "        diff_ = np.subtract(changes[stock],changes[stock2])\n",
    "        absol_ = np.absolute(diff_)\n",
    "        distances[(stock,stock2)] = np.round(10000*np.mean(absol_),decimals=2)\n",
    "#*10000 above because numbers in this range - percent-like numbers - are easier for humans to visually compare\n",
    "\n",
    "print('Start date:',Start) #Double-checking the start and end dates to make sure we have...\n",
    "print('End date:',End) #A full quarter time series comparison for all included stocks\n",
    "\n",
    "#Returns the average Diversity (Div) Score for this profile:\n",
    "print('Average Div Score:',np.round(sum(distances.values())/len(distances),decimals=2))\n",
    "    \n",
    "key_max = max(distances.keys(), key=(lambda k: distances[k]))\n",
    "key_min = min(distances.keys(), key=(lambda k: distances[k]))\n",
    "\n",
    "#Returns your most diverse stock pair:\n",
    "for keys, value in distances.items():    \n",
    "    if value == distances[key_max]:\n",
    "        print('Maximum Div Score:',keys, distances[key_max])\n",
    "#Returns your least diverse stock pair - one of these two should be targeted for replacement:\n",
    "for keys, value in distances.items():    \n",
    "    if value == distances[key_min]:\n",
    "        print('Mimimum Div Score:',keys, distances[key_min])"
   ]
  },
  {
   "cell_type": "code",
   "execution_count": 34,
   "metadata": {},
   "outputs": [
    {
     "name": "stdout",
     "output_type": "stream",
     "text": [
      "Percent focal1 gain= 3.8172345922661446\n",
      "Percent focal2 gain= 5.329599483526612\n"
     ]
    }
   ],
   "source": [
    "#You can compare the past quarter's performance of your least diverse pair here\n",
    "#This is one potential criteria for picking the one to target for replacement\n",
    "focal1 = 'DTE'\n",
    "focal2 = 'POR'\n",
    "\n",
    "focal1_df = Q3[(Q3['Name']==focal1)]\n",
    "focal1_df.reset_index(inplace=True, drop=True)\n",
    "Start = min(focal1_df.date_as_date)\n",
    "End = max(focal1_df.date_as_date)\n",
    "focal1_start=focal1_df.loc[focal1_df.date_as_date==Start,'Open'].values[0]\n",
    "focal1_end=focal1_df.loc[focal1_df.date_as_date==End,'Open'].values[0]\n",
    "type(focal1_start)\n",
    "percent_focal1=100*(focal1_end-focal1_start)/(focal1_start)\n",
    "\n",
    "focal2_df = Q3[(Q3['Name']==focal2)]\n",
    "focal2_df.reset_index(inplace=True, drop=True)\n",
    "Start = min(focal2_df.date_as_date)\n",
    "End = max(focal2_df.date_as_date)\n",
    "focal2_start=focal2_df.loc[focal2_df.date_as_date==Start,'Open'].values[0]\n",
    "focal2_end=focal2_df.loc[focal2_df.date_as_date==End,'Open'].values[0]\n",
    "type(focal1_start)\n",
    "percent_focal2=100*(focal2_end-focal2_start)/(focal2_start)\n",
    "\n",
    "print('Percent focal1 gain=',percent_focal1)\n",
    "print('Percent focal2 gain=',percent_focal2)"
   ]
  },
  {
   "cell_type": "code",
   "execution_count": 62,
   "metadata": {},
   "outputs": [
    {
     "name": "stdout",
     "output_type": "stream",
     "text": [
      "Which of these two are you least attached to? DTE\n",
      "Start date: 2018-07-02\n",
      "End date: 2018-09-28\n",
      "Average Div Score: 44.4\n",
      "Stock Pair Div Score\n",
      "(('NVAX', 'DTE'), 84.36) DTE\n",
      "(('QCOM', 'DTE'), 31.19) DTE\n",
      "(('AMZN', 'DTE'), 36.96) DTE\n",
      "(('YUM', 'DTE'), 21.89) DTE\n",
      "(('PFG', 'DTE'), 31.04) DTE\n",
      "(('AMC', 'DTE'), 51.88) DTE\n",
      "(('ESV', 'DTE'), 63.8) DTE\n",
      "(('SM', 'DTE'), 52.41) DTE\n",
      "(('XYL', 'DTE'), 26.06) DTE\n",
      "Maximum Div Score: ('NVAX', 'DTE') 84.36\n"
     ]
    }
   ],
   "source": [
    "#Having selected my stock to replace, it becomes the \"Focal\" for comparisons below:\n",
    "Focal = 'DTE'\n",
    "print('Which of these two are you least attached to?',Focal) #A reminder of the harsh choice you've made\n",
    "\n",
    "#Pull only 200 stocks at random from the set of ~6,000\n",
    "#Both for speed and for the element of adventure\n",
    "#This isn't an optimization problem - we're not looking to find The One most diverse stock from our Focal\n",
    "#We're looking to find diversity-building and novel (to the user) stocks\n",
    "random_comps=np.random.choice(Q3.Name[(Q3['Name']!=Focal)],replace=False,size=100)\n",
    "random_comps.tolist()\n",
    "comps_w_focal=np.append(random_comps,Focal)\n",
    "comps_w_focal.tolist()\n",
    "\n",
    "#I want to lose as few stocks as possible in this step, because I will lose quite a few below\n",
    "#So the comparison time frame is limited to the complete history of the least-complete stock in the draw:\n",
    "start_dates={}\n",
    "for stock in comps_w_focal:\n",
    "    start_dates[stock] = min(Q3.date_as_date[(Q3['Name']==stock)])\n",
    "Start = max(start_dates.values()) #the stock with the latest start value sets the date range\n",
    "\n",
    "end_dates={}\n",
    "for stock in comps_w_focal:\n",
    "    end_dates[stock] = max(Q3.date_as_date[(Q3['Name']==stock)])\n",
    "End = max(end_dates.values()) #the stock with the latest start value sets the date range\n",
    "\n",
    "#Here some shallow learnign is imported - I'm restricting the returned stocks to those with decent volumes...\n",
    "#... and end-quarter values that were at least equal to their start-quarter values (not adjusted for inflation)\n",
    "good_comps_w_focal=[]\n",
    "for stock in comps_w_focal:\n",
    "    end_vol = Q3.Volume[(Q3['Name']==stock)&(Q3['date_as_date']==End)]\n",
    "    start_vol = Q3.Volume[(Q3['Name']==stock)&(Q3['date_as_date']==Start)]\n",
    "    end_vol.reset_index(inplace=True, drop=True)\n",
    "    start_vol.reset_index(inplace=True, drop=True)\n",
    "    end_price = Q3.Open[(Q3['Name']==stock)&(Q3['date_as_date']==End)]\n",
    "    start_price = Q3.Open[(Q3['Name']==stock)&(Q3['date_as_date']==Start)]\n",
    "    end_price.reset_index(inplace=True, drop=True)\n",
    "    start_price.reset_index(inplace=True, drop=True)\n",
    "    if stock == Focal: continue\n",
    "    if (end_vol[0] >= 535425 and start_vol[0] >= 535425 and end_price[0] >= 1.09*start_price[0]):\n",
    "        good_comps_w_focal.append(stock)       \n",
    "#Even with 200 stocks drawn, sometimes none of them make it through this selection step...\n",
    "#... and an error is thrown\n",
    "#Just run the code again if that happens - Divvy will fetch a fresh random sample of 200\n",
    "\n",
    "good_comps_w_focal.append(Focal) #get the Focal back in there\n",
    "\n",
    "changes={}\n",
    "distances={}\n",
    "\n",
    "for stock in good_comps_w_focal:\n",
    "    changes[stock]=Q3.bounded_ROC[(Q3['Name']==stock)&(Q3['date_as_date']>=Start)&(Q3['date_as_date']<=End)]\n",
    "        \n",
    "for stock in good_comps_w_focal:\n",
    "    if stock==Focal: continue \n",
    "    diff_ = np.subtract(changes[stock],changes[Focal])\n",
    "    absol_ = np.absolute(diff_)\n",
    "    distances[(stock,Focal)] = np.round(10000*np.mean(absol_),decimals=2)\n",
    "\n",
    "print('Start date:',Start)\n",
    "print('End date:',End)\n",
    "print('Average Div Score:',np.round(sum(distances.values())/len(distances),decimals=2)) #*10 to make it impressive\n",
    "distances\n",
    "\n",
    "print('Stock Pair Div Score') \n",
    "for stock in distances.items():\n",
    "    print('{} {}'.format(stock,Focal))\n",
    "\n",
    "key_max = max(distances.keys(), key=(lambda k: distances[k]))\n",
    "key_min = min(distances.keys(), key=(lambda k: distances[k]))\n",
    "\n",
    "#This code tells you the most diverse suggested replacement:\n",
    "for keys, value in distances.items():    \n",
    "    if value == distances[key_max]:\n",
    "        print('Maximum Div Score:',keys, distances[key_max])"
   ]
  },
  {
   "cell_type": "markdown",
   "metadata": {},
   "source": [
    "### The outcomes step below illustrates why DivvyUp is intended to be a stock recommender and NOT a stock predictor - you are supposed to be the human in this loop, going out there and looking into these suggested stocks to judge them for yourself.\n",
    "\n",
    "### For this test case, Divvy's suggested replacements performed on mean about 0.9% better than the focal to be replaced, DTE, but on median almost 2% worse. Use your own judgement when choosing stocks! \n",
    "\n",
    "## Divvy is a travel guide, not a robo-investor."
   ]
  },
  {
   "cell_type": "code",
   "execution_count": 63,
   "metadata": {},
   "outputs": [
    {
     "name": "stdout",
     "output_type": "stream",
     "text": [
      "13.02\n",
      "-0.35\n",
      "6.24\n",
      "-6.42\n",
      "-0.52\n",
      "% focal gain: 1.5\n"
     ]
    }
   ],
   "source": [
    "#This is the fun part!\n",
    "#Now take some of Divvy's suggestions - maybe the ones with the highest Div Scores relative to the focal\n",
    "#And see how they did in the second quarter:\n",
    "\n",
    "focal = 'DTE'\n",
    "swaps = ['CTB','IONS','CIEN','FEYE','NVAX'] \n",
    "#FOSL (+135%) and MAT (+24.58%) did way better than DTE (-0.62%)\n",
    "#Conversely, DTE (-0.62%) did way better than APPS (-24.24%), TGTX (-7.69%), or CIG (-29.07%)\n",
    "\n",
    "focal_df = Q4[(Q4['Name']==focal)]\n",
    "focal_df.reset_index(inplace=True, drop=True)\n",
    "Start = min(focal_df.date_as_date)\n",
    "End = max(focal_df.date_as_date)\n",
    "focal_start=focal_df.loc[focal_df.date_as_date==Start,'Open'].values[0]\n",
    "focal_end=focal_df.loc[focal_df.date_as_date==End,'Open'].values[0]\n",
    "type(focal_start)\n",
    "percent_focal=100*(focal_end-focal_start)/(focal_start)\n",
    "\n",
    "swap_gains=[]\n",
    "for swap in swaps:\n",
    "    swap_df = Q4[(Q4['Name']==swap)]\n",
    "    swap_df.reset_index(inplace=True, drop=True)\n",
    "    Start = min(swap_df.date_as_date)\n",
    "    End = max(swap_df.date_as_date)\n",
    "    swap_start=swap_df.loc[swap_df.date_as_date==Start,'Open'].values[0]\n",
    "    swap_end=swap_df.loc[swap_df.date_as_date==End,'Open'].values[0]\n",
    "    type(focal_start)\n",
    "    percent_swap=100*(swap_end-swap_start)/(swap_start)\n",
    "    print(np.round(percent_swap,decimals=2))\n",
    "\n",
    "print('% focal gain:',np.round(percent_focal,decimals=2))"
   ]
  },
  {
   "cell_type": "code",
   "execution_count": 68,
   "metadata": {},
   "outputs": [
    {
     "data": {
      "image/png": "[encoded data removed]",
      "text/plain": [
       "<Figure size 432x288 with 1 Axes>"
      ]
     },
     "metadata": {
      "needs_background": "light"
     },
     "output_type": "display_data"
    }
   ],
   "source": [
    "#Once again using the plotting function only to describe previous-quarter low diversity visually\n",
    "#But switching to Q4 from Q3 in this code would illustrate how Divvy's swap-in suggestion compared to...\n",
    "#... the original stock\n",
    "import matplotlib.pyplot as plt\n",
    "\n",
    "width = 6\n",
    "length = 4\n",
    "plt.rcParams['figure.figsize'] = (width, length)\n",
    "plt.rcParams.update({'font.size': 8})\n",
    "\n",
    "a = 'DTE' #These two had a first-quarter Div Score of 14.25\n",
    "b = 'CTB' #So let's visualize that similarity below\n",
    "\n",
    "y1=1*Q3['Open'][(Q3['Name'] == a)] #Replace 1 with a larger number if this stock is squished at the bottom\n",
    "y2=3*Q3['Open'][(Q3['Name'] == b)] #Replace 1 with a larger number if this stock is squished at the bottom\n",
    "x=Q3['date_as_date'][(Q3['Name'] == a)] #to set a shared axis\n",
    "\n",
    "plt.plot(x, y1,c='orange',linewidth=5,alpha=0.5,label=a)\n",
    "plt.plot(x, y2,c='black',linewidth=5,alpha=0.5,label=b)\n",
    "\n",
    "plt.legend(loc=9, prop={'size': 15},bbox_to_anchor=[1.05, 0.85])\n",
    "plt.tick_params(\n",
    "    axis='x',          # changes apply to the x-axis\n",
    "    which='both',      # both major and minor ticks are affected\n",
    "    bottom=False,      # ticks along the bottom edge are off\n",
    "    top=False,         # ticks along the top edge are off\n",
    "    labelbottom=False)\n",
    "plt.ylabel('Value at Open ($)',fontsize=15)\n",
    "plt.xlabel('Q3 2018',fontsize=15)\n",
    "plt.show()"
   ]
  },
  {
   "cell_type": "markdown",
   "metadata": {},
   "source": [
    "## The code below will analyze the portfolio's similarity based on fourth quarter 2018 data and return suggested diversifying stocks based on that same data. First quarter 2019 data is not yet available through DivvyUp, but should be pretty easy to check out through Google. "
   ]
  },
  {
   "cell_type": "code",
   "execution_count": 69,
   "metadata": {},
   "outputs": [
    {
     "name": "stdout",
     "output_type": "stream",
     "text": [
      "Start date: 2018-10-01\n",
      "End date: 2018-12-31\n",
      "Average Div Score: 47.36\n",
      "Maximum Div Score: ('LADR', 'SCYX') 102.41\n",
      "Mimimum Div Score: ('DTE', 'POR') 14.38\n"
     ]
    }
   ],
   "source": [
    "a = 'COF'\n",
    "b = 'COST'\n",
    "c = 'MSFT'\n",
    "d = 'DTE'\n",
    "e = 'KO'\n",
    "f = 'POR'\n",
    "g = 'SCYX'\n",
    "h = 'SURF' \n",
    "i = 'NWN'\n",
    "j = 'ACC'\n",
    "k = 'LADR'\n",
    "l = 'GMLP'\n",
    "#Note that any stock that is not in Divvy's pile of 5,943, or isn't in the quarter of interest...\n",
    "#... will break the code.\n",
    "\n",
    "Stocks = [a,b,c,d,e,f,g,i,j,k,l] #create a stock list here\n",
    "\n",
    "#This limits the comparisons to stocks that Divvy only has full-quarter records of:\n",
    "Start = min(Q4.date_as_date)\n",
    "End = max(Q4.date_as_date)\n",
    "Full_run_stocks=[]\n",
    "for stock in Stocks:\n",
    "    if (min(Q4.date_as_date[(Q4['Name']==stock)]) == Start and \n",
    "    max(Q4.date_as_date[(Q4['Name']==stock)]) == End):\n",
    "        Full_run_stocks.append(stock)\n",
    "\n",
    "#Creates a dictionary of the daily ROC values of each of these stocks:\n",
    "changes={}\n",
    "for stock in Full_run_stocks:\n",
    "    changes[stock]=Q4.bounded_ROC[(Q4['Name']==stock)&(Q4['date_as_date']>=Start)&(Q4['date_as_date']<=End)]\n",
    "\n",
    "#Creates a dictionary of the pairwise distances between the ROC values of each of these stocks:\n",
    "distances={}    \n",
    "for stock in Full_run_stocks:\n",
    "    for stock2 in Full_run_stocks:\n",
    "        if stock>=stock2: continue #keeps that dictionary from containing each pair twice\n",
    "        diff_ = np.subtract(changes[stock],changes[stock2])\n",
    "        absol_ = np.absolute(diff_)\n",
    "        distances[(stock,stock2)] = np.round(10000*np.mean(absol_),decimals=2)\n",
    "#*10000 above because numbers in this range - percent-like numbers - are easier for humans to visually compare\n",
    "\n",
    "print('Start date:',Start) #Double-checking the start and end dates to make sure we have...\n",
    "print('End date:',End) #A full quarter time series comparison for all included stocks\n",
    "\n",
    "#Returns the average Diversity (Div) Score for this profile:\n",
    "print('Average Div Score:',np.round(sum(distances.values())/len(distances),decimals=2))\n",
    "    \n",
    "key_max = max(distances.keys(), key=(lambda k: distances[k]))\n",
    "key_min = min(distances.keys(), key=(lambda k: distances[k]))\n",
    "\n",
    "#Returns your most diverse stock pair:\n",
    "for keys, value in distances.items():    \n",
    "    if value == distances[key_max]:\n",
    "        print('Maximum Div Score:',keys, distances[key_max])\n",
    "#Returns your least diverse stock pair - one of these two should be targeted for replacement:\n",
    "for keys, value in distances.items():    \n",
    "    if value == distances[key_min]:\n",
    "        print('Mimimum Div Score:',keys, distances[key_min])"
   ]
  },
  {
   "cell_type": "code",
   "execution_count": 70,
   "metadata": {},
   "outputs": [
    {
     "name": "stdout",
     "output_type": "stream",
     "text": [
      "Percent focal1 gain= 1.4988480491200105\n",
      "Percent focal2 gain= -0.13157359781022063\n"
     ]
    }
   ],
   "source": [
    "#You can compare the past quarter's performance of your least diverse pair here\n",
    "#This is one potential criteria for picking the one to target for replacement\n",
    "focal1 = 'DTE'\n",
    "focal2 = 'POR'\n",
    "\n",
    "focal1_df = Q4[(Q4['Name']==focal1)]\n",
    "focal1_df.reset_index(inplace=True, drop=True)\n",
    "Start = min(focal1_df.date_as_date)\n",
    "End = max(focal1_df.date_as_date)\n",
    "focal1_start=focal1_df.loc[focal1_df.date_as_date==Start,'Open'].values[0]\n",
    "focal1_end=focal1_df.loc[focal1_df.date_as_date==End,'Open'].values[0]\n",
    "type(focal1_start)\n",
    "percent_focal1=100*(focal1_end-focal1_start)/(focal1_start)\n",
    "\n",
    "focal2_df = Q4[(Q4['Name']==focal2)]\n",
    "focal2_df.reset_index(inplace=True, drop=True)\n",
    "Start = min(focal2_df.date_as_date)\n",
    "End = max(focal2_df.date_as_date)\n",
    "focal2_start=focal2_df.loc[focal2_df.date_as_date==Start,'Open'].values[0]\n",
    "focal2_end=focal2_df.loc[focal2_df.date_as_date==End,'Open'].values[0]\n",
    "type(focal1_start)\n",
    "percent_focal2=100*(focal2_end-focal2_start)/(focal2_start)\n",
    "\n",
    "print('Percent focal1 gain=',percent_focal1)\n",
    "print('Percent focal2 gain=',percent_focal2)"
   ]
  },
  {
   "cell_type": "code",
   "execution_count": 71,
   "metadata": {},
   "outputs": [
    {
     "name": "stdout",
     "output_type": "stream",
     "text": [
      "Which of these two are you least attached to? POR\n",
      "Start date: 2018-11-01\n",
      "End date: 2018-12-31\n",
      "Average Div Score: 44.45\n",
      "Stock Pair Div Score\n",
      "(('EXPD', 'POR'), 41.77) POR\n",
      "(('ED', 'POR'), 18.91) POR\n",
      "(('RDN', 'POR'), 45.62) POR\n",
      "(('BAX', 'POR'), 38.58) POR\n",
      "(('EL', 'POR'), 41.42) POR\n",
      "(('HMC', 'POR'), 35.17) POR\n",
      "(('PSEC', 'POR'), 36.24) POR\n",
      "(('EXK', 'POR'), 78.84) POR\n",
      "(('GTN', 'POR'), 54.13) POR\n",
      "(('GBT', 'POR'), 102.65) POR\n",
      "(('NVG', 'POR'), 25.26) POR\n",
      "(('ITUB', 'POR'), 41.72) POR\n",
      "(('NWSA', 'POR'), 43.19) POR\n",
      "(('AEP', 'POR'), 12.78) POR\n",
      "(('VRTX', 'POR'), 50.47) POR\n",
      "Maximum Div Score: ('GBT', 'POR') 102.65\n"
     ]
    }
   ],
   "source": [
    "#Having selected my stock to replace, it becomes the \"Focal\" for comparisons below:\n",
    "Focal = 'POR'\n",
    "print('Which of these two are you least attached to?',Focal) #A reminder of the harsh choice you've made\n",
    "\n",
    "#Pull only 200 stocks at random from the set of ~6,000\n",
    "#Both for speed and for the element of adventure\n",
    "#This isn't an optimization problem - we're not looking to find The One most diverse stock from our Focal\n",
    "#We're looking to find diversity-building and novel (to the user) stocks\n",
    "random_comps=np.random.choice(Q4.Name[(Q4['Name']!=Focal)],replace=False,size=100)\n",
    "random_comps.tolist()\n",
    "comps_w_focal=np.append(random_comps,Focal)\n",
    "comps_w_focal.tolist()\n",
    "\n",
    "#I want to lose as few stocks as possible in this step, because I will lose quite a few below\n",
    "#So the comparison time frame is limited to the complete history of the least-complete stock in the draw:\n",
    "start_dates={}\n",
    "for stock in comps_w_focal:\n",
    "    start_dates[stock] = min(Q4.date_as_date[(Q4['Name']==stock)])\n",
    "Start = max(start_dates.values()) #the stock with the latest start value sets the date range\n",
    "\n",
    "end_dates={}\n",
    "for stock in comps_w_focal:\n",
    "    end_dates[stock] = max(Q4.date_as_date[(Q4['Name']==stock)])\n",
    "End = max(end_dates.values()) #the stock with the latest start value sets the date range\n",
    "\n",
    "#Here some shallow learnign is imported - I'm restricting the returned stocks to those with decent volumes...\n",
    "#... and end-quarter values that were at least equal to their start-quarter values (not adjusted for inflation)\n",
    "good_comps_w_focal=[]\n",
    "for stock in comps_w_focal:\n",
    "    end_vol = Q4.Volume[(Q4['Name']==stock)&(Q4['date_as_date']==End)]\n",
    "    start_vol = Q4.Volume[(Q4['Name']==stock)&(Q4['date_as_date']==Start)]\n",
    "    end_vol.reset_index(inplace=True, drop=True)\n",
    "    start_vol.reset_index(inplace=True, drop=True)\n",
    "    end_price = Q4.Open[(Q4['Name']==stock)&(Q4['date_as_date']==End)]\n",
    "    start_price = Q4.Open[(Q4['Name']==stock)&(Q4['date_as_date']==Start)]\n",
    "    end_price.reset_index(inplace=True, drop=True)\n",
    "    start_price.reset_index(inplace=True, drop=True)\n",
    "    if stock == Focal: continue\n",
    "    if (end_vol[0] >= 657725 and start_vol[0] >= 657725 and end_price[0] >= 0.82*start_price[0]):\n",
    "        good_comps_w_focal.append(stock)       \n",
    "#Even with 200 stocks drawn, sometimes none of them make it through this selection step...\n",
    "#... and an error is thrown\n",
    "#Just run the code again if that happens - Divvy will fetch a fresh random sample of 200\n",
    "\n",
    "good_comps_w_focal.append(Focal) #get the Focal back in there\n",
    "\n",
    "changes={}\n",
    "distances={}\n",
    "\n",
    "for stock in good_comps_w_focal:\n",
    "    changes[stock]=Q4.bounded_ROC[(Q4['Name']==stock)&(Q4['date_as_date']>=Start)&(Q4['date_as_date']<=End)]\n",
    "        \n",
    "for stock in good_comps_w_focal:\n",
    "    if stock==Focal: continue \n",
    "    diff_ = np.subtract(changes[stock],changes[Focal])\n",
    "    absol_ = np.absolute(diff_)\n",
    "    distances[(stock,Focal)] = np.round(10000*np.mean(absol_),decimals=2)\n",
    "\n",
    "print('Start date:',Start)\n",
    "print('End date:',End)\n",
    "print('Average Div Score:',np.round(sum(distances.values())/len(distances),decimals=2)) #*10 to make it impressive\n",
    "distances\n",
    "\n",
    "print('Stock Pair Div Score') \n",
    "for stock in distances.items():\n",
    "    print('{} {}'.format(stock,Focal))\n",
    "\n",
    "key_max = max(distances.keys(), key=(lambda k: distances[k]))\n",
    "key_min = min(distances.keys(), key=(lambda k: distances[k]))\n",
    "\n",
    "#This code tells you the most diverse suggested replacement:\n",
    "for keys, value in distances.items():    \n",
    "    if value == distances[key_max]:\n",
    "        print('Maximum Div Score:',keys, distances[key_max])"
   ]
  },
  {
   "cell_type": "code",
   "execution_count": 72,
   "metadata": {},
   "outputs": [
    {
     "data": {
      "image/png": "[encoded data removed]",
      "text/plain": [
       "<Figure size 432x288 with 1 Axes>"
      ]
     },
     "metadata": {
      "needs_background": "light"
     },
     "output_type": "display_data"
    }
   ],
   "source": [
    "#Once again illustrating what the previous-quarter (Q4) low diversity score reflects:\n",
    "import matplotlib.pyplot as plt\n",
    "\n",
    "width = 6\n",
    "length = 4\n",
    "plt.rcParams['figure.figsize'] = (width, length)\n",
    "plt.rcParams.update({'font.size': 8})\n",
    "\n",
    "a = 'POR' #These two had a first-quarter Div Score of 14.25\n",
    "b = 'GBT' #So let's visualize that similarity below\n",
    "\n",
    "y1=1*Q4['Open'][(Q4['Name'] == a)] #Replace 1 with a larger number if this stock is squished at the bottom\n",
    "y2=1*Q4['Open'][(Q4['Name'] == b)] #Replace 1 with a larger number if this stock is squished at the bottom\n",
    "x=Q4['date_as_date'][(Q4['Name'] == a)] #to set a shared axis\n",
    "\n",
    "plt.plot(x, y1,c='orange',linewidth=5,alpha=0.5,label=a)\n",
    "plt.plot(x, y2,c='black',linewidth=5,alpha=0.5,label=b)\n",
    "\n",
    "plt.legend(loc=9, prop={'size': 15},bbox_to_anchor=[1.05, 0.85])\n",
    "plt.tick_params(\n",
    "    axis='x',          # changes apply to the x-axis\n",
    "    which='both',      # both major and minor ticks are affected\n",
    "    bottom=False,      # ticks along the bottom edge are off\n",
    "    top=False,         # ticks along the top edge are off\n",
    "    labelbottom=False)\n",
    "plt.ylabel('Value at Open ($)',fontsize=15)\n",
    "plt.xlabel('Q4 2018',fontsize=15)\n",
    "plt.show()"
   ]
  }
 ],
 "metadata": {
  "kernelspec": {
   "display_name": "Python 3",
   "language": "python",
   "name": "python3"
  },
  "language_info": {
   "codemirror_mode": {
    "name": "ipython",
    "version": 3
   },
   "file_extension": ".py",
   "mimetype": "text/x-python",
   "name": "python",
   "nbconvert_exporter": "python",
   "pygments_lexer": "ipython3",
   "version": "3.7.1"
  }
 },
 "nbformat": 4,
 "nbformat_minor": 2
}
