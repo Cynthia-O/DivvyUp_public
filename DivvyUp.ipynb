{
 "cells": [
  {
   "cell_type": "markdown",
   "metadata": {},
   "source": [
    "## DivvyUp relies on R for web scraping and R's formidable Hadleyverse for most data cleaning and reshaping tasks. What follows below is the Python parts of DivvyUp, largely pandas and numpy for the heavy computational lifting, and matplotlib for simple plotting.\n",
    "\n",
    "## An interactive DivvyUp can be found at https://vast-hamlet-12388.herokuapp.com/. "
   ]
  },
  {
   "cell_type": "markdown",
   "metadata": {},
   "source": [
    "### First import the necessary packages:"
   ]
  },
  {
   "cell_type": "code",
   "execution_count": 1,
   "metadata": {},
   "outputs": [],
   "source": [
    "#first import the necessary packages\n",
    "import pandas as pd\n",
    "import numpy as np\n",
    "import os\n",
    "import matplotlib.pyplot as plt"
   ]
  },
  {
   "cell_type": "markdown",
   "metadata": {},
   "source": [
    "## R's data.table package has been used to bind and append a ticker column to the scraped 2018 historical daily opening bell data of 5,943 domestic and international stocks, which includes most of the stocks traded on the Nasdaq, NYS, and American Exchanges. The data is then imported below:"
   ]
  },
  {
   "cell_type": "code",
   "execution_count": 2,
   "metadata": {},
   "outputs": [],
   "source": [
    "Full2018Stocks = pd.read_csv('/home/cynthiaorourke/Documents/Data/Full2018Stocks.csv', header = 0)\n",
    "#a date as a datetime variable column is created from the date as object column:\n",
    "Full2018Stocks['date_as_date'] =  pd.to_datetime(Full2018Stocks['Date'], format='%Y-%m-%d')"
   ]
  },
  {
   "cell_type": "markdown",
   "metadata": {},
   "source": [
    "## Daily rate of change (ROC) is how DivvyUp evaluates the similarity or diversity of two stocks. Stocks that change in the same direction and at the same percent magnitude over time are stocks that are calculated to have very low diversity relative to one another. Conversely, stocks whose value changes are not corrleated are calculated as having high diversity relative to one another. "
   ]
  },
  {
   "cell_type": "code",
   "execution_count": 3,
   "metadata": {},
   "outputs": [
    {
     "name": "stdout",
     "output_type": "stream",
     "text": [
      "  Name        Date       High        Low       Open      Close     Volume  \\\n",
      "0    A  2018-01-02  67.889999  67.339996  67.419998  67.599998  1047800.0   \n",
      "1    A  2018-01-03  69.489998  67.599998  67.620003  69.320000  1698900.0   \n",
      "2    A  2018-01-04  69.820000  68.779999  69.540001  68.800003  2230700.0   \n",
      "\n",
      "  date_as_date  daily_ROC  \n",
      "0   2018-01-02        NaN  \n",
      "1   2018-01-03   0.002967  \n",
      "2   2018-01-04   0.028394  \n",
      "(1436234, 9)\n"
     ]
    }
   ],
   "source": [
    "#ROC values as (Day 2 value - Day 1 Value)/(Day 1 Value) are created here:\n",
    "Full2018Stocks['daily_ROC']=(Full2018Stocks['Open']-Full2018Stocks['Open'].shift(1))/Full2018Stocks['Open'].shift(1)\n",
    "# print(Full2018Stocks.iloc[0:3,:]) #code to check results - unhash to use"
   ]
  },
  {
   "cell_type": "code",
   "execution_count": 4,
   "metadata": {},
   "outputs": [],
   "source": [
    "#Here I clean the borders up so that the first entry for each stock has a ROC value of 0\n",
    "#Otherwise it would reflect price change based on the last entry of the stock before it\n",
    "#0 is the column with Name values, which can be used to find these problematic borders\n",
    "for i in Full2018Stocks.index:\n",
    "    if Full2018Stocks.iloc[i,0]!=Full2018Stocks.iloc[i-1,0]:\n",
    "        Full2018Stocks.loc[Full2018Stocks.index==i,'daily_ROC'] = 0"
   ]
  },
  {
   "cell_type": "code",
   "execution_count": 7,
   "metadata": {},
   "outputs": [],
   "source": [
    "#Bounded ROC is an indexed form of ROC, equal to (Day2-Day1/(Day2+Day1))/2 \n",
    "Full2018Stocks['bounded_ROC']=0.5*(Full2018Stocks['Open']-Full2018Stocks['Open'].shift(1))/(Full2018Stocks['Open']+Full2018Stocks['Open'].shift(1))\n",
    "# print(Full2018Stocks.iloc[0:2,:]) #code to check results - unhash to use"
   ]
  },
  {
   "cell_type": "code",
   "execution_count": 8,
   "metadata": {},
   "outputs": [],
   "source": [
    "#As above, cleaning up a border artifact:\n",
    "for i in Full2018Stocks.index:\n",
    "    if Full2018Stocks.iloc[i,0]!=Full2018Stocks.iloc[i-1,0]:\n",
    "        Full2018Stocks.loc[Full2018Stocks.index==i,'bounded_ROC'] = 0"
   ]
  },
  {
   "cell_type": "code",
   "execution_count": 9,
   "metadata": {},
   "outputs": [],
   "source": [
    "#Ticker CAMP was scraped as camp - fixing here\n",
    "Full2018Stocks['Name']= Full2018Stocks['Name'].replace('camp', 'CAMP')"
   ]
  },
  {
   "cell_type": "code",
   "execution_count": 10,
   "metadata": {},
   "outputs": [
    {
     "name": "stdout",
     "output_type": "stream",
     "text": [
      "0\n",
      "0\n"
     ]
    }
   ],
   "source": [
    "#Checking the date for missing values.\n",
    "#There shouldn't be any, but if there are, it is probably easiest to remove the problem stocks. \n",
    "#If there are many missing values, revisit the web scraping/data cleaning steps.\n",
    "print(Full2018Stocks['daily_ROC'].isna().sum()) \n",
    "print(Full2018Stocks['bounded_ROC'].isna().sum()) "
   ]
  },
  {
   "cell_type": "markdown",
   "metadata": {},
   "source": [
    "## Now splitting it quarterly chunks, both for validation (how well do Divvy's recommendations perform in the following quarter?) and also to limit the depth of the time series, allowing for more precise quarterly rebalancing events. \n",
    "\n",
    "### Jan 3 - March 30 Q1 (no daily ROC on day 1 of Q1)\n",
    "### Apr 2 - Jun 29 Q2\n",
    "### Jul 2 - Sep 28 Q3\n",
    "### Oct 1 - Dec 31 Q4"
   ]
  },
  {
   "cell_type": "code",
   "execution_count": 11,
   "metadata": {},
   "outputs": [],
   "source": [
    "Q1=Full2018Stocks[(Full2018Stocks.date_as_date >= '2018-01-03')&(Full2018Stocks.date_as_date <= '2018-03-02')]\n",
    "Q2=Full2018Stocks[(Full2018Stocks.date_as_date >= '2018-04-02')&(Full2018Stocks.date_as_date <= '2018-06-29')]\n",
    "Q3=Full2018Stocks[(Full2018Stocks.date_as_date >= '2018-07-02')&(Full2018Stocks.date_as_date <= '2018-09-28')]\n",
    "Q4=Full2018Stocks[(Full2018Stocks.date_as_date >= '2018-10-01')&(Full2018Stocks.date_as_date <= '2018-12-31')]"
   ]
  },
  {
   "cell_type": "code",
   "execution_count": 13,
   "metadata": {},
   "outputs": [],
   "source": [
    "#Recommend creating some .csvs to save locally at this point\n",
    "#That would keep you from having to repeat the above work every time you want to run analyes\n",
    "#An alternative would be to use a pickling approach, e.g., dill\n",
    "Q1.to_csv('/home/cynthiaorourke/Documents/Shiny_Coins/DivvyUp/Q1.csv', sep=',', encoding='utf-8', index=False)\n",
    "Q2.to_csv('/home/cynthiaorourke/Documents/Shiny_Coins/DivvyUp/Q2.csv', sep=',', encoding='utf-8', index=False)\n",
    "Q3.to_csv('/home/cynthiaorourke/Documents/Shiny_Coins/DivvyUp/Q3.csv', sep=',', encoding='utf-8', index=False)\n",
    "Q4.to_csv('/home/cynthiaorourke/Documents/Shiny_Coins/DivvyUp/Q4.csv', sep=',', encoding='utf-8', index=False)"
   ]
  },
  {
   "cell_type": "code",
   "execution_count": 21,
   "metadata": {},
   "outputs": [
    {
     "data": {
      "text/plain": [
       "High               44.509999\n",
       "Low                43.384999\n",
       "Open               43.910001\n",
       "Close              43.990002\n",
       "Volume         671300.000000\n",
       "daily_ROC           0.000895\n",
       "bounded_ROC         0.000224\n",
       "Name: 0.75, dtype: float64"
      ]
     },
     "execution_count": 21,
     "metadata": {},
     "output_type": "execute_result"
    }
   ],
   "source": [
    "#Finding fourth quartil volume values, which are important for making sure that Divvy is only bringing...\n",
    "#... back stocks for which it has sufficient market data to reliably judge\n",
    "#First the median values for each ticker are found, and then those medians are sorted into quantiles\n",
    "#Only the top quantile is used for Divvy's fetch action, reducing the pool to ~1,486 stocks (still pretty good)\n",
    "Q1play=Q1.copy()\n",
    "Quarts = Q1play.groupby('Name').median().quantile(0.75)\n",
    "Quarts"
   ]
  },
  {
   "cell_type": "code",
   "execution_count": 22,
   "metadata": {},
   "outputs": [
    {
     "data": {
      "text/plain": [
       "High               43.327501\n",
       "Low                42.373751\n",
       "Open               42.780000\n",
       "Close              42.847501\n",
       "Volume         596050.000000\n",
       "daily_ROC           0.001752\n",
       "bounded_ROC         0.000437\n",
       "Name: 0.75, dtype: float64"
      ]
     },
     "execution_count": 22,
     "metadata": {},
     "output_type": "execute_result"
    }
   ],
   "source": [
    "Q2play=Q2.copy()\n",
    "Quarts = Q2play.groupby('Name').median().quantile(0.75)\n",
    "Quarts"
   ]
  },
  {
   "cell_type": "code",
   "execution_count": 23,
   "metadata": {},
   "outputs": [
    {
     "data": {
      "text/plain": [
       "High               44.235000\n",
       "Low                43.242501\n",
       "Open               43.727501\n",
       "Close              43.717499\n",
       "Volume         535425.000000\n",
       "daily_ROC           0.001023\n",
       "bounded_ROC         0.000256\n",
       "Name: 0.75, dtype: float64"
      ]
     },
     "execution_count": 23,
     "metadata": {},
     "output_type": "execute_result"
    }
   ],
   "source": [
    "Q3play=Q3.copy()\n",
    "Quarts = Q3play.groupby('Name').median().quantile(0.75)\n",
    "Quarts"
   ]
  },
  {
   "cell_type": "code",
   "execution_count": 24,
   "metadata": {},
   "outputs": [
    {
     "data": {
      "text/plain": [
       "High               38.990002\n",
       "Low                37.648499\n",
       "Open               38.307499\n",
       "Close              38.205001\n",
       "Volume         657725.000000\n",
       "daily_ROC           0.000000\n",
       "bounded_ROC         0.000000\n",
       "Name: 0.75, dtype: float64"
      ]
     },
     "execution_count": 24,
     "metadata": {},
     "output_type": "execute_result"
    }
   ],
   "source": [
    "Q4play=Q4.copy()\n",
    "Quarts = Q4play.groupby('Name').median().quantile(0.75)\n",
    "Quarts"
   ]
  },
  {
   "cell_type": "markdown",
   "metadata": {},
   "source": [
    "## You're now ready to run DivvyUp on any portfolio, starting with mine as of January 2019:"
   ]
  },
  {
   "cell_type": "code",
   "execution_count": 28,
   "metadata": {},
   "outputs": [
    {
     "name": "stdout",
     "output_type": "stream",
     "text": [
      "Start date: 2018-01-03 00:00:00\n",
      "End date: 2018-03-02 00:00:00\n",
      "Average Div Score: 37.48\n",
      "Maximum Div Score: ('NWN', 'SCYX') 62.57\n",
      "Mimimum Div Score: ('DTE', 'POR') 14.25\n"
     ]
    }
   ],
   "source": [
    "a = 'COF'\n",
    "b = 'COST'\n",
    "c = 'MSFT'\n",
    "d = 'DTE'\n",
    "e = 'KO'\n",
    "f = 'POR'\n",
    "g = 'SCYX'\n",
    "h = 'SURF' \n",
    "i = 'NWN'\n",
    "j = 'ACC'\n",
    "k = 'LADR'\n",
    "l = 'GMLP'\n",
    "#Note that any stock that is not in Divvy's pile of 5,943, or isn't in the quarter of interest...\n",
    "#... will break the code.\n",
    "\n",
    "Stocks = [a,b,c,d,e,f,g,i,j,k,l] #create a stock list here\n",
    "\n",
    "#This limits the comparisons to stocks that Divvy only has full-quarter records of:\n",
    "Start = min(Q1.date_as_date)\n",
    "End = max(Q1.date_as_date)\n",
    "Full_run_stocks=[]\n",
    "for stock in Stocks:\n",
    "    if (min(Q1.date_as_date[(Q1['Name']==stock)]) == Start and \n",
    "    max(Q1.date_as_date[(Q1['Name']==stock)]) == End):\n",
    "        Full_run_stocks.append(stock)\n",
    "\n",
    "#Creates a dictionary of the daily ROC values of each of these stocks:\n",
    "changes={}\n",
    "for stock in Full_run_stocks:\n",
    "    changes[stock]=Q1.bounded_ROC[(Q1['Name']==stock)&(Q1['date_as_date']>=Start)&(Q1['date_as_date']<=End)]\n",
    "\n",
    "#Creates a dictionary of the pairwise distances between the ROC values of each of these stocks:\n",
    "distances={}    \n",
    "for stock in Full_run_stocks:\n",
    "    for stock2 in Full_run_stocks:\n",
    "        if stock>=stock2: continue #keeps that dictionary from containing each pair twice\n",
    "        diff_ = np.subtract(changes[stock],changes[stock2])\n",
    "        absol_ = np.absolute(diff_)\n",
    "        distances[(stock,stock2)] = np.round(10000*np.mean(absol_),decimals=2)\n",
    "#*10000 above because numbers in this range - percent-like numbers - are easier for humans to visually compare\n",
    "\n",
    "print('Start date:',Start) #Double-checking the start and end dates to make sure we have...\n",
    "print('End date:',End) #A full quarter time series comparison for all included stocks\n",
    "\n",
    "#Returns the average Diversity (Div) Score for this profile:\n",
    "print('Average Div Score:',np.round(sum(distances.values())/len(distances),decimals=2))\n",
    "    \n",
    "key_max = max(distances.keys(), key=(lambda k: distances[k]))\n",
    "key_min = min(distances.keys(), key=(lambda k: distances[k]))\n",
    "\n",
    "#Returns your most diverse stock pair:\n",
    "for keys, value in distances.items():    \n",
    "    if value == distances[key_max]:\n",
    "        print('Maximum Div Score:',keys, distances[key_max])\n",
    "#Returns your least diverse stock pair - one of these two should be targeted for replacement:\n",
    "for keys, value in distances.items():    \n",
    "    if value == distances[key_min]:\n",
    "        print('Mimimum Div Score:',keys, distances[key_min])"
   ]
  },
  {
   "cell_type": "code",
   "execution_count": 31,
   "metadata": {},
   "outputs": [
    {
     "name": "stdout",
     "output_type": "stream",
     "text": [
      "Percent focal1 gain= -6.982541602468203\n",
      "Percent focal2 gain= -10.755816730756736\n"
     ]
    }
   ],
   "source": [
    "#You can compare the past quarter's performance of your least diverse pair here\n",
    "#This is one potential criteria for picking the one to target for replacement\n",
    "focal1 = 'DTE'\n",
    "focal2 = 'POR'\n",
    "\n",
    "focal1_df = Q1[(Q1['Name']==focal1)]\n",
    "focal1_df.reset_index(inplace=True, drop=True)\n",
    "Start = min(focal1_df.date_as_date)\n",
    "End = max(focal1_df.date_as_date)\n",
    "focal1_start=focal1_df.loc[focal1_df.date_as_date==Start,'Open'].values[0]\n",
    "focal1_end=focal1_df.loc[focal1_df.date_as_date==End,'Open'].values[0]\n",
    "type(focal1_start)\n",
    "percent_focal1=100*(focal1_end-focal1_start)/(focal1_start)\n",
    "\n",
    "focal2_df = Q1[(Q1['Name']==focal2)]\n",
    "focal2_df.reset_index(inplace=True, drop=True)\n",
    "Start = min(focal2_df.date_as_date)\n",
    "End = max(focal2_df.date_as_date)\n",
    "focal2_start=focal2_df.loc[focal2_df.date_as_date==Start,'Open'].values[0]\n",
    "focal2_end=focal2_df.loc[focal2_df.date_as_date==End,'Open'].values[0]\n",
    "type(focal1_start)\n",
    "percent_focal2=100*(focal2_end-focal2_start)/(focal2_start)\n",
    "\n",
    "print('Percent focal1 gain=',percent_focal1)\n",
    "print('Percent focal2 gain=',percent_focal2)"
   ]
  },
  {
   "cell_type": "code",
   "execution_count": 30,
   "metadata": {},
   "outputs": [
    {
     "name": "stdout",
     "output_type": "stream",
     "text": [
      "Which of these two are you least attached to? DTE\n",
      "Start date: 2018-01-17 00:00:00\n",
      "End date: 2018-03-02 00:00:00\n",
      "Average Div Score: 65.81\n",
      "Stock Pair Div Score\n",
      "(('APPS', 'DTE'), 75.42) DTE\n",
      "(('CIG', 'DTE'), 59.35) DTE\n",
      "(('MSFT', 'DTE'), 38.73) DTE\n",
      "(('AVP', 'DTE'), 69.43) DTE\n",
      "(('TGTX', 'DTE'), 90.95) DTE\n",
      "(('AGO', 'DTE'), 45.9) DTE\n",
      "(('MOS', 'DTE'), 53.07) DTE\n",
      "(('XYL', 'DTE'), 30.8) DTE\n",
      "(('FRC', 'DTE'), 38.69) DTE\n",
      "(('RYAM', 'DTE'), 57.97) DTE\n",
      "(('FOSL', 'DTE'), 153.38) DTE\n",
      "(('MAT', 'DTE'), 76.08) DTE\n",
      "Maximum Div Score: ('FOSL', 'DTE') 153.38\n"
     ]
    }
   ],
   "source": [
    "#Having selected my stock to replace, it becomes the \"Focal\" for comparisons below:\n",
    "Focal = 'DTE'\n",
    "print('Which of these two are you least attached to?',Focal) #A reminder of the harsh choice you've made\n",
    "\n",
    "#Pull only 200 stocks at random from the set of ~6,000\n",
    "#Both for speed and for the element of adventure\n",
    "#This isn't an optimization problem - we're not looking to find The One most diverse stock from our Focal\n",
    "#We're looking to find diversity-building and novel (to the user) stocks\n",
    "random_comps=np.random.choice(Q1.Name[(Q1['Name']!=Focal)],replace=False,size=200)\n",
    "random_comps.tolist()\n",
    "comps_w_focal=np.append(random_comps,Focal)\n",
    "comps_w_focal.tolist()\n",
    "\n",
    "#I want to lose as few stocks as possible in this step, because I will lose quite a few below\n",
    "#So the comparison time frame is limited to the complete history of the least-complete stock in the draw:\n",
    "start_dates={}\n",
    "for stock in comps_w_focal:\n",
    "    start_dates[stock] = min(Q1.date_as_date[(Q1['Name']==stock)])\n",
    "Start = max(start_dates.values()) #the stock with the latest start value sets the date range\n",
    "\n",
    "end_dates={}\n",
    "for stock in comps_w_focal:\n",
    "    end_dates[stock] = max(Q1.date_as_date[(Q1['Name']==stock)])\n",
    "End = max(end_dates.values()) #the stock with the latest start value sets the date range\n",
    "\n",
    "#Here some shallow learnign is imported - I'm restricting the returned stocks to those with decent volumes...\n",
    "#... and end-quarter values that were at least equal to their start-quarter values (not adjusted for inflation)\n",
    "good_comps_w_focal=[]\n",
    "for stock in comps_w_focal:\n",
    "    end_vol = Q1.Volume[(Q1['Name']==stock)&(Q1['date_as_date']==End)]\n",
    "    start_vol = Q1.Volume[(Q1['Name']==stock)&(Q1['date_as_date']==Start)]\n",
    "    end_vol.reset_index(inplace=True, drop=True)\n",
    "    start_vol.reset_index(inplace=True, drop=True)\n",
    "    end_price = Q1.Open[(Q1['Name']==stock)&(Q1['date_as_date']==End)]\n",
    "    start_price = Q1.Open[(Q1['Name']==stock)&(Q1['date_as_date']==Start)]\n",
    "    end_price.reset_index(inplace=True, drop=True)\n",
    "    start_price.reset_index(inplace=True, drop=True)\n",
    "    if stock == Focal: continue\n",
    "    if (end_vol[0] >= 671300 and start_vol[0] >= 671300 and end_price[0] >= start_price[0]):\n",
    "        good_comps_w_focal.append(stock)       \n",
    "#Even with 200 stocks drawn, sometimes none of them make it through this selection step...\n",
    "#... and an error is thrown\n",
    "#Just run the code again if that happens - Divvy will fetch a fresh random sample of 200\n",
    "\n",
    "good_comps_w_focal.append(Focal) #get the Focal back in there\n",
    "\n",
    "changes={}\n",
    "distances={}\n",
    "\n",
    "for stock in good_comps_w_focal:\n",
    "    changes[stock]=Q1.bounded_ROC[(Q1['Name']==stock)&(Q1['date_as_date']>=Start)&(Q1['date_as_date']<=End)]\n",
    "        \n",
    "for stock in good_comps_w_focal:\n",
    "    if stock==Focal: continue \n",
    "    diff_ = np.subtract(changes[stock],changes[Focal])\n",
    "    absol_ = np.absolute(diff_)\n",
    "    distances[(stock,Focal)] = np.round(10000*np.mean(absol_),decimals=2)\n",
    "\n",
    "print('Start date:',Start)\n",
    "print('End date:',End)\n",
    "print('Average Div Score:',np.round(sum(distances.values())/len(distances),decimals=2)) #*10 to make it impressive\n",
    "distances\n",
    "\n",
    "print('Stock Pair Div Score') \n",
    "for stock in distances.items():\n",
    "    print('{} {}'.format(stock,Focal))\n",
    "\n",
    "key_max = max(distances.keys(), key=(lambda k: distances[k]))\n",
    "key_min = min(distances.keys(), key=(lambda k: distances[k]))\n",
    "\n",
    "#This code tells you the most diverse suggested replacement:\n",
    "for keys, value in distances.items():    \n",
    "    if value == distances[key_max]:\n",
    "        print('Maximum Div Score:',keys, distances[key_max])"
   ]
  },
  {
   "cell_type": "markdown",
   "metadata": {},
   "source": [
    "### The outcomes step below illustrates why DivvyUp is intended to be a stock recommender and NOT a stock predictor - you are supposed to be the human in this loop, going out there and looking into these suggested stocks to judge them for yourself.\n",
    "\n",
    "### For this test case, Divvy's suggested replacements performed on mean over 19% better than the focal to be replaced, DTE, but on median slightly over 7% worse. Use your own judgement when choosing stocks! \n",
    "\n",
    "## Divvy is a travel guide, not a robo-investor."
   ]
  },
  {
   "cell_type": "code",
   "execution_count": 32,
   "metadata": {},
   "outputs": [
    {
     "name": "stdout",
     "output_type": "stream",
     "text": [
      "135.71\n",
      "-24.24\n",
      "-7.69\n",
      "24.58\n",
      "-29.07\n",
      "% focal gain: -0.62\n"
     ]
    }
   ],
   "source": [
    "#This is the fun part!\n",
    "#Now take some of Divvy's suggestions - maybe the ones with the highest Div Scores relative to the focal\n",
    "#And see how they did in the second quarter:\n",
    "\n",
    "focal = 'DTE'\n",
    "swaps = ['FOSL','APPS','TGTX','MAT','CIG'] \n",
    "#FOSL (+135%) and MAT (+24.58%) did way better than DTE (-0.62%)\n",
    "#Conversely, DTE (-0.62%) did way better than APPS (-24.24%), TGTX (-7.69%), or CIG (-29.07%)\n",
    "\n",
    "focal_df = Q2[(Q2['Name']==focal)]\n",
    "focal_df.reset_index(inplace=True, drop=True)\n",
    "Start = min(focal_df.date_as_date)\n",
    "End = max(focal_df.date_as_date)\n",
    "focal_start=focal_df.loc[focal_df.date_as_date==Start,'Open'].values[0]\n",
    "focal_end=focal_df.loc[focal_df.date_as_date==End,'Open'].values[0]\n",
    "type(focal_start)\n",
    "percent_focal=100*(focal_end-focal_start)/(focal_start)\n",
    "\n",
    "swap_gains=[]\n",
    "for swap in swaps:\n",
    "    swap_df = Q2[(Q2['Name']==swap)]\n",
    "    swap_df.reset_index(inplace=True, drop=True)\n",
    "    Start = min(swap_df.date_as_date)\n",
    "    End = max(swap_df.date_as_date)\n",
    "    swap_start=swap_df.loc[swap_df.date_as_date==Start,'Open'].values[0]\n",
    "    swap_end=swap_df.loc[swap_df.date_as_date==End,'Open'].values[0]\n",
    "    type(focal_start)\n",
    "    percent_swap=100*(swap_end-swap_start)/(swap_start)\n",
    "    print(np.round(percent_swap,decimals=2))\n",
    "\n",
    "print('% focal gain:',np.round(percent_focal,decimals=2))"
   ]
  },
  {
   "cell_type": "code",
   "execution_count": 38,
   "metadata": {},
   "outputs": [
    {
     "data": {
      "image/png": "[encoded data removed]",
      "text/plain": [
       "<Figure size 432x288 with 1 Axes>"
      ]
     },
     "metadata": {
      "needs_background": "light"
     },
     "output_type": "display_data"
    }
   ],
   "source": [
    "#One last thing - below you can plot the within-quarter outcome of any two stocks\n",
    "#This is handy for visualizing next-quarter outcomes, or checking out exactly what a low diversity score...\n",
    "#... looks like (I'm going to use it for that right now)\n",
    "import matplotlib.pyplot as plt\n",
    "\n",
    "width = 6\n",
    "length = 4\n",
    "plt.rcParams['figure.figsize'] = (width, length)\n",
    "plt.rcParams.update({'font.size': 8})\n",
    "\n",
    "a = 'DTE' #These two had a first-quarter Div Score of 14.25\n",
    "b = 'POR' #So let's visualize that similarity below\n",
    "\n",
    "y1=1*Q1['Open'][(Q1['Name'] == a)] #Replace 1 with a larger number if this stock is squished at the bottom\n",
    "y2=1*Q1['Open'][(Q1['Name'] == b)] #Replace 1 with a larger number if this stock is squished at the bottom\n",
    "x=Q1['date_as_date'][(Q1['Name'] == a)] #to set a shared axis\n",
    "\n",
    "plt.plot(x, y1,c='orange',linewidth=5,alpha=0.5,label=a)\n",
    "plt.plot(x, y2,c='black',linewidth=5,alpha=0.5,label=b)\n",
    "\n",
    "plt.legend(loc=9, prop={'size': 15},bbox_to_anchor=[1.05, 0.85])\n",
    "plt.tick_params(\n",
    "    axis='x',          # changes apply to the x-axis\n",
    "    which='both',      # both major and minor ticks are affected\n",
    "    bottom=False,      # ticks along the bottom edge are off\n",
    "    top=False,         # ticks along the top edge are off\n",
    "    labelbottom=False)\n",
    "plt.ylabel('Value at Open ($)',fontsize=15)\n",
    "plt.xlabel('Q1 2018',fontsize=15)\n",
    "plt.show()"
   ]
  },
  {
   "cell_type": "markdown",
   "metadata": {},
   "source": [
    "## Notes for using this script beyond Q1->Q2, and with varied filtering parameters:\n",
    "\n",
    "### To find suggested replacements for Q2, Q3, or Q4, and/or to test out Q2 or Q3 suggestions against Q3 or Q4 performances (respectively), use Find and Replace under Edit above (or your favorite text editor) to switch out Q values in the appropriate cells.\n",
    "\n",
    "### Try not to forget to change the volumes to reflect top-quartile volumes for each quarter, though honestly these are all close enough that forgetting wouldn't have too much of an impact. \n",
    "\n",
    "### If you want Divvy to bring back only stocks that have been performing very well, edit the start price / end price argument in line 39 to require a stock with an end-quarter value substantially higher than its start-quarter value. \n",
    "\n",
    "### If you want Divvy to bring back a greater diversity of stocks, edit the start price / end price argument to be more lax, for example an end-quarter value that is at least 75% as high as the start-quarter value. Be careful, though - lowering this bar too much can bring back some astonishingly low-performing stocks. "
   ]
  }
 ],
 "metadata": {
  "kernelspec": {
   "display_name": "Python 3",
   "language": "python",
   "name": "python3"
  },
  "language_info": {
   "codemirror_mode": {
    "name": "ipython",
    "version": 3
   },
   "file_extension": ".py",
   "mimetype": "text/x-python",
   "name": "python",
   "nbconvert_exporter": "python",
   "pygments_lexer": "ipython3",
   "version": "3.7.1"
  }
 },
 "nbformat": 4,
 "nbformat_minor": 2
}
